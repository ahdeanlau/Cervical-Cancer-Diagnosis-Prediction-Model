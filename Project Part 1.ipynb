{
 "cells": [
  {
   "attachments": {},
   "cell_type": "markdown",
   "metadata": {},
   "source": [
    "#### Instruction\n",
    "- Use this template to develop your project. Do not change the steps. \n",
    "- For each step, you may add additional cells if needed.\n",
    "- Describe the steps in the \"Description:\" field."
   ]
  },
  {
   "attachments": {},
   "cell_type": "markdown",
   "metadata": {},
   "source": [
    "#### Group Information\n",
    "\n",
    "Group No: Cancer_2\n",
    "\n",
    "- Member 1: Foo Ling Zhen\n",
    "- Member 2: Dean Lau Sheng Ting\n",
    "- Member 3: Looi Wei En\n",
    "- Member 4: Eason Peng \n"
   ]
  },
  {
   "attachments": {},
   "cell_type": "markdown",
   "metadata": {},
   "source": [
    "#### Import libraries"
   ]
  },
  {
   "cell_type": "code",
<<<<<<< Updated upstream
   "execution_count": 1,
=======
   "execution_count": 224,
>>>>>>> Stashed changes
   "metadata": {},
   "outputs": [],
   "source": [
    "%config Completer.use_jedi=False\n",
    "\n",
    "import pandas as pd\n",
    "import numpy as np \n",
<<<<<<< Updated upstream
    "from sklearn.model_selection import train_test_split"
=======
    "\n",
    "import matplotlib.pyplot as plt\n",
    "import seaborn as sns\n",
    "\n",
    "from sklearn.model_selection import train_test_split\n",
    "from sklearn.impute import SimpleImputer\n",
    "from sklearn.utils import resample"
>>>>>>> Stashed changes
   ]
  },
  {
   "attachments": {},
   "cell_type": "markdown",
   "metadata": {},
   "source": [
    "#### Load the dataset"
   ]
  },
  {
   "cell_type": "code",
<<<<<<< Updated upstream
   "execution_count": 2,
=======
   "execution_count": 225,
>>>>>>> Stashed changes
   "metadata": {},
   "outputs": [
    {
     "data": {
      "text/html": [
       "<div>\n",
       "<style scoped>\n",
       "    .dataframe tbody tr th:only-of-type {\n",
       "        vertical-align: middle;\n",
       "    }\n",
       "\n",
       "    .dataframe tbody tr th {\n",
       "        vertical-align: top;\n",
       "    }\n",
       "\n",
       "    .dataframe thead th {\n",
       "        text-align: right;\n",
       "    }\n",
       "</style>\n",
       "<table border=\"1\" class=\"dataframe\">\n",
       "  <thead>\n",
       "    <tr style=\"text-align: right;\">\n",
       "      <th></th>\n",
       "      <th>Age</th>\n",
       "      <th>Number of sexual partners</th>\n",
       "      <th>First sexual intercourse</th>\n",
       "      <th>Num of pregnancies</th>\n",
       "      <th>Smokes</th>\n",
       "      <th>Smokes (years)</th>\n",
       "      <th>Smokes (packs/year)</th>\n",
       "      <th>Hormonal Contraceptives</th>\n",
       "      <th>Hormonal Contraceptives (years)</th>\n",
       "      <th>IUD</th>\n",
       "      <th>...</th>\n",
       "      <th>STDs: Time since first diagnosis</th>\n",
       "      <th>STDs: Time since last diagnosis</th>\n",
       "      <th>Dx:Cancer</th>\n",
       "      <th>Dx:CIN</th>\n",
       "      <th>Dx:HPV</th>\n",
       "      <th>Dx</th>\n",
       "      <th>Hinselmann</th>\n",
       "      <th>Schiller</th>\n",
       "      <th>Citology</th>\n",
       "      <th>Biopsy</th>\n",
       "    </tr>\n",
       "  </thead>\n",
       "  <tbody>\n",
       "    <tr>\n",
       "      <th>0</th>\n",
       "      <td>18</td>\n",
       "      <td>4.0</td>\n",
       "      <td>15.0</td>\n",
       "      <td>1.0</td>\n",
       "      <td>0.0</td>\n",
       "      <td>0.0</td>\n",
       "      <td>0.0</td>\n",
       "      <td>0.0</td>\n",
       "      <td>0.0</td>\n",
       "      <td>0.0</td>\n",
       "      <td>...</td>\n",
       "      <td>?</td>\n",
       "      <td>?</td>\n",
       "      <td>0</td>\n",
       "      <td>0</td>\n",
       "      <td>0</td>\n",
       "      <td>0</td>\n",
       "      <td>0</td>\n",
       "      <td>0</td>\n",
       "      <td>0</td>\n",
       "      <td>0</td>\n",
       "    </tr>\n",
       "    <tr>\n",
       "      <th>1</th>\n",
       "      <td>15</td>\n",
       "      <td>1.0</td>\n",
       "      <td>14.0</td>\n",
       "      <td>1.0</td>\n",
       "      <td>0.0</td>\n",
       "      <td>0.0</td>\n",
       "      <td>0.0</td>\n",
       "      <td>0.0</td>\n",
       "      <td>0.0</td>\n",
       "      <td>0.0</td>\n",
       "      <td>...</td>\n",
       "      <td>?</td>\n",
       "      <td>?</td>\n",
       "      <td>0</td>\n",
       "      <td>0</td>\n",
       "      <td>0</td>\n",
       "      <td>0</td>\n",
       "      <td>0</td>\n",
       "      <td>0</td>\n",
       "      <td>0</td>\n",
       "      <td>0</td>\n",
       "    </tr>\n",
       "    <tr>\n",
       "      <th>2</th>\n",
       "      <td>34</td>\n",
       "      <td>1.0</td>\n",
       "      <td>?</td>\n",
       "      <td>1.0</td>\n",
       "      <td>0.0</td>\n",
       "      <td>0.0</td>\n",
       "      <td>0.0</td>\n",
       "      <td>0.0</td>\n",
       "      <td>0.0</td>\n",
       "      <td>0.0</td>\n",
       "      <td>...</td>\n",
       "      <td>?</td>\n",
       "      <td>?</td>\n",
       "      <td>0</td>\n",
       "      <td>0</td>\n",
       "      <td>0</td>\n",
       "      <td>0</td>\n",
       "      <td>0</td>\n",
       "      <td>0</td>\n",
       "      <td>0</td>\n",
       "      <td>0</td>\n",
       "    </tr>\n",
       "    <tr>\n",
       "      <th>3</th>\n",
       "      <td>52</td>\n",
       "      <td>5.0</td>\n",
       "      <td>16.0</td>\n",
       "      <td>4.0</td>\n",
       "      <td>1.0</td>\n",
       "      <td>37.0</td>\n",
       "      <td>37.0</td>\n",
       "      <td>1.0</td>\n",
       "      <td>3.0</td>\n",
       "      <td>0.0</td>\n",
       "      <td>...</td>\n",
       "      <td>?</td>\n",
       "      <td>?</td>\n",
       "      <td>1</td>\n",
       "      <td>0</td>\n",
       "      <td>1</td>\n",
       "      <td>0</td>\n",
       "      <td>0</td>\n",
       "      <td>0</td>\n",
       "      <td>0</td>\n",
       "      <td>0</td>\n",
       "    </tr>\n",
       "    <tr>\n",
       "      <th>4</th>\n",
       "      <td>46</td>\n",
       "      <td>3.0</td>\n",
       "      <td>21.0</td>\n",
       "      <td>4.0</td>\n",
       "      <td>0.0</td>\n",
       "      <td>0.0</td>\n",
       "      <td>0.0</td>\n",
       "      <td>1.0</td>\n",
       "      <td>15.0</td>\n",
       "      <td>0.0</td>\n",
       "      <td>...</td>\n",
       "      <td>?</td>\n",
       "      <td>?</td>\n",
       "      <td>0</td>\n",
       "      <td>0</td>\n",
       "      <td>0</td>\n",
       "      <td>0</td>\n",
       "      <td>0</td>\n",
       "      <td>0</td>\n",
       "      <td>0</td>\n",
       "      <td>0</td>\n",
       "    </tr>\n",
       "    <tr>\n",
       "      <th>...</th>\n",
       "      <td>...</td>\n",
       "      <td>...</td>\n",
       "      <td>...</td>\n",
       "      <td>...</td>\n",
       "      <td>...</td>\n",
       "      <td>...</td>\n",
       "      <td>...</td>\n",
       "      <td>...</td>\n",
       "      <td>...</td>\n",
       "      <td>...</td>\n",
       "      <td>...</td>\n",
       "      <td>...</td>\n",
       "      <td>...</td>\n",
       "      <td>...</td>\n",
       "      <td>...</td>\n",
       "      <td>...</td>\n",
       "      <td>...</td>\n",
       "      <td>...</td>\n",
       "      <td>...</td>\n",
       "      <td>...</td>\n",
       "      <td>...</td>\n",
       "    </tr>\n",
       "    <tr>\n",
       "      <th>853</th>\n",
       "      <td>34</td>\n",
       "      <td>3.0</td>\n",
       "      <td>18.0</td>\n",
       "      <td>0.0</td>\n",
       "      <td>0.0</td>\n",
       "      <td>0.0</td>\n",
       "      <td>0.0</td>\n",
       "      <td>0.0</td>\n",
       "      <td>0.0</td>\n",
       "      <td>0.0</td>\n",
       "      <td>...</td>\n",
       "      <td>?</td>\n",
       "      <td>?</td>\n",
       "      <td>0</td>\n",
       "      <td>0</td>\n",
       "      <td>0</td>\n",
       "      <td>0</td>\n",
       "      <td>0</td>\n",
       "      <td>0</td>\n",
       "      <td>0</td>\n",
       "      <td>0</td>\n",
       "    </tr>\n",
       "    <tr>\n",
       "      <th>854</th>\n",
       "      <td>32</td>\n",
       "      <td>2.0</td>\n",
       "      <td>19.0</td>\n",
       "      <td>1.0</td>\n",
       "      <td>0.0</td>\n",
       "      <td>0.0</td>\n",
       "      <td>0.0</td>\n",
       "      <td>1.0</td>\n",
       "      <td>8.0</td>\n",
       "      <td>0.0</td>\n",
       "      <td>...</td>\n",
       "      <td>?</td>\n",
       "      <td>?</td>\n",
       "      <td>0</td>\n",
       "      <td>0</td>\n",
       "      <td>0</td>\n",
       "      <td>0</td>\n",
       "      <td>0</td>\n",
       "      <td>0</td>\n",
       "      <td>0</td>\n",
       "      <td>0</td>\n",
       "    </tr>\n",
       "    <tr>\n",
       "      <th>855</th>\n",
       "      <td>25</td>\n",
       "      <td>2.0</td>\n",
       "      <td>17.0</td>\n",
       "      <td>0.0</td>\n",
       "      <td>0.0</td>\n",
       "      <td>0.0</td>\n",
       "      <td>0.0</td>\n",
       "      <td>1.0</td>\n",
       "      <td>0.08</td>\n",
       "      <td>0.0</td>\n",
       "      <td>...</td>\n",
       "      <td>?</td>\n",
       "      <td>?</td>\n",
       "      <td>0</td>\n",
       "      <td>0</td>\n",
       "      <td>0</td>\n",
       "      <td>0</td>\n",
       "      <td>0</td>\n",
       "      <td>0</td>\n",
       "      <td>1</td>\n",
       "      <td>0</td>\n",
       "    </tr>\n",
       "    <tr>\n",
       "      <th>856</th>\n",
       "      <td>33</td>\n",
       "      <td>2.0</td>\n",
       "      <td>24.0</td>\n",
       "      <td>2.0</td>\n",
       "      <td>0.0</td>\n",
       "      <td>0.0</td>\n",
       "      <td>0.0</td>\n",
       "      <td>1.0</td>\n",
       "      <td>0.08</td>\n",
       "      <td>0.0</td>\n",
       "      <td>...</td>\n",
       "      <td>?</td>\n",
       "      <td>?</td>\n",
       "      <td>0</td>\n",
       "      <td>0</td>\n",
       "      <td>0</td>\n",
       "      <td>0</td>\n",
       "      <td>0</td>\n",
       "      <td>0</td>\n",
       "      <td>0</td>\n",
       "      <td>0</td>\n",
       "    </tr>\n",
       "    <tr>\n",
       "      <th>857</th>\n",
       "      <td>29</td>\n",
       "      <td>2.0</td>\n",
       "      <td>20.0</td>\n",
       "      <td>1.0</td>\n",
       "      <td>0.0</td>\n",
       "      <td>0.0</td>\n",
       "      <td>0.0</td>\n",
       "      <td>1.0</td>\n",
       "      <td>0.5</td>\n",
       "      <td>0.0</td>\n",
       "      <td>...</td>\n",
       "      <td>?</td>\n",
       "      <td>?</td>\n",
       "      <td>0</td>\n",
       "      <td>0</td>\n",
       "      <td>0</td>\n",
       "      <td>0</td>\n",
       "      <td>0</td>\n",
       "      <td>0</td>\n",
       "      <td>0</td>\n",
       "      <td>0</td>\n",
       "    </tr>\n",
       "  </tbody>\n",
       "</table>\n",
       "<p>858 rows × 36 columns</p>\n",
       "</div>"
      ],
      "text/plain": [
       "     Age Number of sexual partners First sexual intercourse  \\\n",
       "0     18                       4.0                     15.0   \n",
       "1     15                       1.0                     14.0   \n",
       "2     34                       1.0                        ?   \n",
       "3     52                       5.0                     16.0   \n",
       "4     46                       3.0                     21.0   \n",
       "..   ...                       ...                      ...   \n",
       "853   34                       3.0                     18.0   \n",
       "854   32                       2.0                     19.0   \n",
       "855   25                       2.0                     17.0   \n",
       "856   33                       2.0                     24.0   \n",
       "857   29                       2.0                     20.0   \n",
       "\n",
       "    Num of pregnancies Smokes Smokes (years) Smokes (packs/year)  \\\n",
       "0                  1.0    0.0            0.0                 0.0   \n",
       "1                  1.0    0.0            0.0                 0.0   \n",
       "2                  1.0    0.0            0.0                 0.0   \n",
       "3                  4.0    1.0           37.0                37.0   \n",
       "4                  4.0    0.0            0.0                 0.0   \n",
       "..                 ...    ...            ...                 ...   \n",
       "853                0.0    0.0            0.0                 0.0   \n",
       "854                1.0    0.0            0.0                 0.0   \n",
       "855                0.0    0.0            0.0                 0.0   \n",
       "856                2.0    0.0            0.0                 0.0   \n",
       "857                1.0    0.0            0.0                 0.0   \n",
       "\n",
       "    Hormonal Contraceptives Hormonal Contraceptives (years)  IUD  ...  \\\n",
       "0                       0.0                             0.0  0.0  ...   \n",
       "1                       0.0                             0.0  0.0  ...   \n",
       "2                       0.0                             0.0  0.0  ...   \n",
       "3                       1.0                             3.0  0.0  ...   \n",
       "4                       1.0                            15.0  0.0  ...   \n",
       "..                      ...                             ...  ...  ...   \n",
       "853                     0.0                             0.0  0.0  ...   \n",
       "854                     1.0                             8.0  0.0  ...   \n",
       "855                     1.0                            0.08  0.0  ...   \n",
       "856                     1.0                            0.08  0.0  ...   \n",
       "857                     1.0                             0.5  0.0  ...   \n",
       "\n",
       "    STDs: Time since first diagnosis STDs: Time since last diagnosis  \\\n",
       "0                                  ?                               ?   \n",
       "1                                  ?                               ?   \n",
       "2                                  ?                               ?   \n",
       "3                                  ?                               ?   \n",
       "4                                  ?                               ?   \n",
       "..                               ...                             ...   \n",
       "853                                ?                               ?   \n",
       "854                                ?                               ?   \n",
       "855                                ?                               ?   \n",
       "856                                ?                               ?   \n",
       "857                                ?                               ?   \n",
       "\n",
       "    Dx:Cancer Dx:CIN Dx:HPV Dx Hinselmann Schiller Citology Biopsy  \n",
       "0           0      0      0  0          0        0        0      0  \n",
       "1           0      0      0  0          0        0        0      0  \n",
       "2           0      0      0  0          0        0        0      0  \n",
       "3           1      0      1  0          0        0        0      0  \n",
       "4           0      0      0  0          0        0        0      0  \n",
       "..        ...    ...    ... ..        ...      ...      ...    ...  \n",
       "853         0      0      0  0          0        0        0      0  \n",
       "854         0      0      0  0          0        0        0      0  \n",
       "855         0      0      0  0          0        0        1      0  \n",
       "856         0      0      0  0          0        0        0      0  \n",
       "857         0      0      0  0          0        0        0      0  \n",
       "\n",
       "[858 rows x 36 columns]"
      ]
     },
<<<<<<< Updated upstream
     "execution_count": 2,
=======
     "execution_count": 225,
>>>>>>> Stashed changes
     "metadata": {},
     "output_type": "execute_result"
    }
   ],
   "source": [
    "df= pd.read_csv('risk_factors.csv')\n",
    "df"
   ]
  },
  {
   "cell_type": "code",
<<<<<<< Updated upstream
   "execution_count": 3,
=======
   "execution_count": 226,
>>>>>>> Stashed changes
   "metadata": {},
   "outputs": [
    {
     "data": {
      "text/plain": [
       "(858, 36)"
      ]
     },
<<<<<<< Updated upstream
     "execution_count": 3,
=======
     "execution_count": 226,
>>>>>>> Stashed changes
     "metadata": {},
     "output_type": "execute_result"
    }
   ],
   "source": [
    "df.shape"
   ]
  },
  {
   "cell_type": "code",
<<<<<<< Updated upstream
   "execution_count": 4,
=======
   "execution_count": 227,
>>>>>>> Stashed changes
   "metadata": {},
   "outputs": [
    {
     "name": "stdout",
     "output_type": "stream",
     "text": [
      "<class 'pandas.core.frame.DataFrame'>\n",
      "RangeIndex: 858 entries, 0 to 857\n",
      "Data columns (total 36 columns):\n",
      " #   Column                              Non-Null Count  Dtype \n",
      "---  ------                              --------------  ----- \n",
      " 0   Age                                 858 non-null    int64 \n",
      " 1   Number of sexual partners           858 non-null    object\n",
      " 2   First sexual intercourse            858 non-null    object\n",
      " 3   Num of pregnancies                  858 non-null    object\n",
      " 4   Smokes                              858 non-null    object\n",
      " 5   Smokes (years)                      858 non-null    object\n",
      " 6   Smokes (packs/year)                 858 non-null    object\n",
      " 7   Hormonal Contraceptives             858 non-null    object\n",
      " 8   Hormonal Contraceptives (years)     858 non-null    object\n",
      " 9   IUD                                 858 non-null    object\n",
      " 10  IUD (years)                         858 non-null    object\n",
      " 11  STDs                                858 non-null    object\n",
      " 12  STDs (number)                       858 non-null    object\n",
      " 13  STDs:condylomatosis                 858 non-null    object\n",
      " 14  STDs:cervical condylomatosis        858 non-null    object\n",
      " 15  STDs:vaginal condylomatosis         858 non-null    object\n",
      " 16  STDs:vulvo-perineal condylomatosis  858 non-null    object\n",
      " 17  STDs:syphilis                       858 non-null    object\n",
      " 18  STDs:pelvic inflammatory disease    858 non-null    object\n",
      " 19  STDs:genital herpes                 858 non-null    object\n",
      " 20  STDs:molluscum contagiosum          858 non-null    object\n",
      " 21  STDs:AIDS                           858 non-null    object\n",
      " 22  STDs:HIV                            858 non-null    object\n",
      " 23  STDs:Hepatitis B                    858 non-null    object\n",
      " 24  STDs:HPV                            858 non-null    object\n",
      " 25  STDs: Number of diagnosis           858 non-null    int64 \n",
      " 26  STDs: Time since first diagnosis    858 non-null    object\n",
      " 27  STDs: Time since last diagnosis     858 non-null    object\n",
      " 28  Dx:Cancer                           858 non-null    int64 \n",
      " 29  Dx:CIN                              858 non-null    int64 \n",
      " 30  Dx:HPV                              858 non-null    int64 \n",
      " 31  Dx                                  858 non-null    int64 \n",
      " 32  Hinselmann                          858 non-null    int64 \n",
      " 33  Schiller                            858 non-null    int64 \n",
      " 34  Citology                            858 non-null    int64 \n",
      " 35  Biopsy                              858 non-null    int64 \n",
      "dtypes: int64(10), object(26)\n",
      "memory usage: 241.4+ KB\n"
     ]
    }
   ],
   "source": [
    "df.info()"
   ]
  },
  {
   "cell_type": "code",
<<<<<<< Updated upstream
   "execution_count": 18,
=======
   "execution_count": 228,
>>>>>>> Stashed changes
   "metadata": {},
   "outputs": [
    {
     "data": {
      "text/plain": [
       "Age                                   0\n",
       "Number of sexual partners             0\n",
       "First sexual intercourse              0\n",
       "Num of pregnancies                    0\n",
       "Smokes                                0\n",
       "Smokes (years)                        0\n",
       "Smokes (packs/year)                   0\n",
       "Hormonal Contraceptives               0\n",
       "Hormonal Contraceptives (years)       0\n",
       "IUD                                   0\n",
       "IUD (years)                           0\n",
       "STDs                                  0\n",
       "STDs (number)                         0\n",
       "STDs:condylomatosis                   0\n",
       "STDs:cervical condylomatosis          0\n",
       "STDs:vaginal condylomatosis           0\n",
       "STDs:vulvo-perineal condylomatosis    0\n",
       "STDs:syphilis                         0\n",
       "STDs:pelvic inflammatory disease      0\n",
       "STDs:genital herpes                   0\n",
       "STDs:molluscum contagiosum            0\n",
       "STDs:AIDS                             0\n",
       "STDs:HIV                              0\n",
       "STDs:Hepatitis B                      0\n",
       "STDs:HPV                              0\n",
       "STDs: Number of diagnosis             0\n",
       "STDs: Time since first diagnosis      0\n",
       "STDs: Time since last diagnosis       0\n",
       "Dx:Cancer                             0\n",
       "Dx:CIN                                0\n",
       "Dx:HPV                                0\n",
       "Dx                                    0\n",
       "Hinselmann                            0\n",
       "Schiller                              0\n",
       "Citology                              0\n",
       "Biopsy                                0\n",
       "dtype: int64"
      ]
     },
<<<<<<< Updated upstream
     "execution_count": 18,
=======
     "execution_count": 228,
>>>>>>> Stashed changes
     "metadata": {},
     "output_type": "execute_result"
    }
   ],
   "source": [
    "df.isna().sum()"
   ]
  },
  {
   "attachments": {},
   "cell_type": "markdown",
   "metadata": {},
   "source": [
<<<<<<< Updated upstream
    "The dataframe has 858 entries and 36 columns, consisting of datatypes int64 and object. There no missing values in the dataframe."
=======
    "The dataframe has 858 entries and 36 columns, consisting of datatypes int64 and object. There no null values detected in the dataframe.\n",
    "\n",
    "Out of 4 target columns - Hinselmann, Schiller, Cytology and Biopsy, the target "
>>>>>>> Stashed changes
   ]
  },
  {
   "cell_type": "code",
<<<<<<< Updated upstream
   "execution_count": 5,
=======
   "execution_count": 229,
>>>>>>> Stashed changes
   "metadata": {},
   "outputs": [
    {
     "name": "stdout",
     "output_type": "stream",
     "text": [
      "<class 'pandas.core.frame.DataFrame'>\n",
      "RangeIndex: 858 entries, 0 to 857\n",
      "Data columns (total 35 columns):\n",
      " #   Column                              Non-Null Count  Dtype \n",
      "---  ------                              --------------  ----- \n",
      " 0   Age                                 858 non-null    int64 \n",
      " 1   Number of sexual partners           858 non-null    object\n",
      " 2   First sexual intercourse            858 non-null    object\n",
      " 3   Num of pregnancies                  858 non-null    object\n",
      " 4   Smokes                              858 non-null    object\n",
      " 5   Smokes (years)                      858 non-null    object\n",
      " 6   Smokes (packs/year)                 858 non-null    object\n",
      " 7   Hormonal Contraceptives             858 non-null    object\n",
      " 8   Hormonal Contraceptives (years)     858 non-null    object\n",
      " 9   IUD                                 858 non-null    object\n",
      " 10  IUD (years)                         858 non-null    object\n",
      " 11  STDs                                858 non-null    object\n",
      " 12  STDs (number)                       858 non-null    object\n",
      " 13  STDs:condylomatosis                 858 non-null    object\n",
      " 14  STDs:cervical condylomatosis        858 non-null    object\n",
      " 15  STDs:vaginal condylomatosis         858 non-null    object\n",
      " 16  STDs:vulvo-perineal condylomatosis  858 non-null    object\n",
      " 17  STDs:syphilis                       858 non-null    object\n",
      " 18  STDs:pelvic inflammatory disease    858 non-null    object\n",
      " 19  STDs:genital herpes                 858 non-null    object\n",
      " 20  STDs:molluscum contagiosum          858 non-null    object\n",
      " 21  STDs:AIDS                           858 non-null    object\n",
      " 22  STDs:HIV                            858 non-null    object\n",
      " 23  STDs:Hepatitis B                    858 non-null    object\n",
      " 24  STDs:HPV                            858 non-null    object\n",
      " 25  STDs: Number of diagnosis           858 non-null    int64 \n",
      " 26  STDs: Time since first diagnosis    858 non-null    object\n",
      " 27  STDs: Time since last diagnosis     858 non-null    object\n",
      " 28  Dx:Cancer                           858 non-null    int64 \n",
      " 29  Dx:CIN                              858 non-null    int64 \n",
      " 30  Dx:HPV                              858 non-null    int64 \n",
      " 31  Dx                                  858 non-null    int64 \n",
      " 32  Hinselmann                          858 non-null    int64 \n",
      " 33  Schiller                            858 non-null    int64 \n",
      " 34  Citology                            858 non-null    int64 \n",
      "dtypes: int64(9), object(26)\n",
      "memory usage: 234.7+ KB\n"
     ]
    }
   ],
   "source": [
    "# Assigning features to X\n",
    "X = df.drop('Biopsy', axis = 1)\n",
    "X.info()"
   ]
  },
  {
   "cell_type": "code",
<<<<<<< Updated upstream
   "execution_count": 6,
=======
   "execution_count": 230,
>>>>>>> Stashed changes
   "metadata": {},
   "outputs": [
    {
     "data": {
      "text/plain": [
       "(858, 35)"
      ]
     },
<<<<<<< Updated upstream
     "execution_count": 6,
=======
     "execution_count": 230,
>>>>>>> Stashed changes
     "metadata": {},
     "output_type": "execute_result"
    }
   ],
   "source": [
    "X.shape\n"
   ]
  },
  {
   "cell_type": "code",
<<<<<<< Updated upstream
   "execution_count": 19,
=======
   "execution_count": 231,
>>>>>>> Stashed changes
   "metadata": {},
   "outputs": [
    {
     "name": "stdout",
     "output_type": "stream",
     "text": [
      "<class 'pandas.core.series.Series'>\n",
      "RangeIndex: 858 entries, 0 to 857\n",
      "Series name: Biopsy\n",
      "Non-Null Count  Dtype\n",
      "--------------  -----\n",
      "858 non-null    int64\n",
      "dtypes: int64(1)\n",
      "memory usage: 6.8 KB\n"
     ]
    }
   ],
   "source": [
    "# Assigning column 'Biopsy' as the target, y\n",
    "y = df['Biopsy']\n",
    "y.info()"
   ]
  },
  {
   "cell_type": "code",
<<<<<<< Updated upstream
   "execution_count": 8,
=======
   "execution_count": 232,
>>>>>>> Stashed changes
   "metadata": {},
   "outputs": [
    {
     "data": {
      "text/plain": [
       "(858,)"
      ]
     },
<<<<<<< Updated upstream
     "execution_count": 8,
=======
     "execution_count": 232,
>>>>>>> Stashed changes
     "metadata": {},
     "output_type": "execute_result"
    }
   ],
   "source": [
    "y.shape"
   ]
  },
  {
   "attachments": {},
   "cell_type": "markdown",
   "metadata": {},
   "source": [
    "#### Split the dataset\n",
    "Split the dataset into training, validation and test sets."
   ]
  },
  {
   "cell_type": "code",
<<<<<<< Updated upstream
   "execution_count": 9,
=======
   "execution_count": 233,
>>>>>>> Stashed changes
   "metadata": {},
   "outputs": [],
   "source": [
    "#split into 80:10:10\n",
    "\n",
    "#splitting into training and test set\n",
    "X_train, X_test, y_train, y_test = train_test_split(X, y, test_size = 0.1,random_state=0)\n",
    "\n",
    "#splitting training and validation set \n",
    "X_train, X_vald, y_train, y_vald = train_test_split(X, y, test_size = 0.1,random_state=0)\n"
   ]
  },
  {
   "cell_type": "code",
<<<<<<< Updated upstream
   "execution_count": 10,
=======
   "execution_count": 234,
>>>>>>> Stashed changes
   "metadata": {},
   "outputs": [
    {
     "name": "stdout",
     "output_type": "stream",
     "text": [
      "(772, 35)\n",
      "(86, 35)\n",
      "(86, 35)\n"
     ]
    }
   ],
   "source": [
    "print(X_train.shape)\n",
    "print(X_vald.shape)\n",
    "print(X_test.shape)"
   ]
  },
  {
   "cell_type": "code",
<<<<<<< Updated upstream
   "execution_count": 11,
=======
   "execution_count": 235,
>>>>>>> Stashed changes
   "metadata": {},
   "outputs": [
    {
     "name": "stdout",
     "output_type": "stream",
     "text": [
      "(772,)\n",
      "(86,)\n",
      "(86,)\n"
     ]
    }
   ],
   "source": [
    "print(y_train.shape)\n",
    "print(y_vald.shape)\n",
    "print(y_test.shape)"
   ]
  },
  {
   "attachments": {},
   "cell_type": "markdown",
   "metadata": {},
   "source": [
    "#### Data preprocessing\n",
    "Perform data preprocessing such as normalization, standardization, label encoding etc.\n",
    "______________________________________________________________________________________\n",
    "Description:"
   ]
  },
  {
   "cell_type": "code",
<<<<<<< Updated upstream
   "execution_count": null,
   "metadata": {},
   "outputs": [],
   "source": []
=======
   "execution_count": 236,
   "metadata": {},
   "outputs": [
    {
     "data": {
      "text/plain": [
       "Age                                    int64\n",
       "Number of sexual partners             object\n",
       "First sexual intercourse              object\n",
       "Num of pregnancies                    object\n",
       "Smokes                                object\n",
       "Smokes (years)                        object\n",
       "Smokes (packs/year)                   object\n",
       "Hormonal Contraceptives               object\n",
       "Hormonal Contraceptives (years)       object\n",
       "IUD                                   object\n",
       "IUD (years)                           object\n",
       "STDs                                  object\n",
       "STDs (number)                         object\n",
       "STDs:condylomatosis                   object\n",
       "STDs:cervical condylomatosis          object\n",
       "STDs:vaginal condylomatosis           object\n",
       "STDs:vulvo-perineal condylomatosis    object\n",
       "STDs:syphilis                         object\n",
       "STDs:pelvic inflammatory disease      object\n",
       "STDs:genital herpes                   object\n",
       "STDs:molluscum contagiosum            object\n",
       "STDs:AIDS                             object\n",
       "STDs:HIV                              object\n",
       "STDs:Hepatitis B                      object\n",
       "STDs:HPV                              object\n",
       "STDs: Number of diagnosis              int64\n",
       "STDs: Time since first diagnosis      object\n",
       "STDs: Time since last diagnosis       object\n",
       "Dx:Cancer                              int64\n",
       "Dx:CIN                                 int64\n",
       "Dx:HPV                                 int64\n",
       "Dx                                     int64\n",
       "Hinselmann                             int64\n",
       "Schiller                               int64\n",
       "Citology                               int64\n",
       "dtype: object"
      ]
     },
     "execution_count": 236,
     "metadata": {},
     "output_type": "execute_result"
    }
   ],
   "source": [
    "# Show the datatypes of each column\n",
    "X_train.dtypes"
   ]
  },
  {
   "cell_type": "code",
   "execution_count": 237,
   "metadata": {},
   "outputs": [
    {
     "data": {
      "text/html": [
       "<div>\n",
       "<style scoped>\n",
       "    .dataframe tbody tr th:only-of-type {\n",
       "        vertical-align: middle;\n",
       "    }\n",
       "\n",
       "    .dataframe tbody tr th {\n",
       "        vertical-align: top;\n",
       "    }\n",
       "\n",
       "    .dataframe thead th {\n",
       "        text-align: right;\n",
       "    }\n",
       "</style>\n",
       "<table border=\"1\" class=\"dataframe\">\n",
       "  <thead>\n",
       "    <tr style=\"text-align: right;\">\n",
       "      <th></th>\n",
       "      <th>Number of sexual partners</th>\n",
       "      <th>First sexual intercourse</th>\n",
       "      <th>Num of pregnancies</th>\n",
       "      <th>Smokes</th>\n",
       "      <th>Smokes (years)</th>\n",
       "      <th>Smokes (packs/year)</th>\n",
       "      <th>Hormonal Contraceptives</th>\n",
       "      <th>Hormonal Contraceptives (years)</th>\n",
       "      <th>IUD</th>\n",
       "      <th>IUD (years)</th>\n",
       "      <th>...</th>\n",
       "      <th>STDs:syphilis</th>\n",
       "      <th>STDs:pelvic inflammatory disease</th>\n",
       "      <th>STDs:genital herpes</th>\n",
       "      <th>STDs:molluscum contagiosum</th>\n",
       "      <th>STDs:AIDS</th>\n",
       "      <th>STDs:HIV</th>\n",
       "      <th>STDs:Hepatitis B</th>\n",
       "      <th>STDs:HPV</th>\n",
       "      <th>STDs: Time since first diagnosis</th>\n",
       "      <th>STDs: Time since last diagnosis</th>\n",
       "    </tr>\n",
       "  </thead>\n",
       "  <tbody>\n",
       "    <tr>\n",
       "      <th>301</th>\n",
       "      <td>?</td>\n",
       "      <td>16.0</td>\n",
       "      <td>1.0</td>\n",
       "      <td>0.0</td>\n",
       "      <td>0.0</td>\n",
       "      <td>0.0</td>\n",
       "      <td>0.0</td>\n",
       "      <td>0.0</td>\n",
       "      <td>0.0</td>\n",
       "      <td>0.0</td>\n",
       "      <td>...</td>\n",
       "      <td>0.0</td>\n",
       "      <td>0.0</td>\n",
       "      <td>0.0</td>\n",
       "      <td>0.0</td>\n",
       "      <td>0.0</td>\n",
       "      <td>0.0</td>\n",
       "      <td>0.0</td>\n",
       "      <td>0.0</td>\n",
       "      <td>?</td>\n",
       "      <td>?</td>\n",
       "    </tr>\n",
       "    <tr>\n",
       "      <th>789</th>\n",
       "      <td>1.0</td>\n",
       "      <td>18.0</td>\n",
       "      <td>1.0</td>\n",
       "      <td>0.0</td>\n",
       "      <td>0.0</td>\n",
       "      <td>0.0</td>\n",
       "      <td>0.0</td>\n",
       "      <td>0.0</td>\n",
       "      <td>0.0</td>\n",
       "      <td>0.0</td>\n",
       "      <td>...</td>\n",
       "      <td>0.0</td>\n",
       "      <td>0.0</td>\n",
       "      <td>0.0</td>\n",
       "      <td>0.0</td>\n",
       "      <td>0.0</td>\n",
       "      <td>0.0</td>\n",
       "      <td>0.0</td>\n",
       "      <td>0.0</td>\n",
       "      <td>1.0</td>\n",
       "      <td>1.0</td>\n",
       "    </tr>\n",
       "    <tr>\n",
       "      <th>452</th>\n",
       "      <td>1.0</td>\n",
       "      <td>16.0</td>\n",
       "      <td>1.0</td>\n",
       "      <td>0.0</td>\n",
       "      <td>0.0</td>\n",
       "      <td>0.0</td>\n",
       "      <td>?</td>\n",
       "      <td>?</td>\n",
       "      <td>?</td>\n",
       "      <td>?</td>\n",
       "      <td>...</td>\n",
       "      <td>?</td>\n",
       "      <td>?</td>\n",
       "      <td>?</td>\n",
       "      <td>?</td>\n",
       "      <td>?</td>\n",
       "      <td>?</td>\n",
       "      <td>?</td>\n",
       "      <td>?</td>\n",
       "      <td>?</td>\n",
       "      <td>?</td>\n",
       "    </tr>\n",
       "    <tr>\n",
       "      <th>344</th>\n",
       "      <td>1.0</td>\n",
       "      <td>17.0</td>\n",
       "      <td>1.0</td>\n",
       "      <td>0.0</td>\n",
       "      <td>0.0</td>\n",
       "      <td>0.0</td>\n",
       "      <td>0.0</td>\n",
       "      <td>0.0</td>\n",
       "      <td>0.0</td>\n",
       "      <td>0.0</td>\n",
       "      <td>...</td>\n",
       "      <td>0.0</td>\n",
       "      <td>0.0</td>\n",
       "      <td>0.0</td>\n",
       "      <td>0.0</td>\n",
       "      <td>0.0</td>\n",
       "      <td>0.0</td>\n",
       "      <td>0.0</td>\n",
       "      <td>0.0</td>\n",
       "      <td>?</td>\n",
       "      <td>?</td>\n",
       "    </tr>\n",
       "    <tr>\n",
       "      <th>650</th>\n",
       "      <td>2.0</td>\n",
       "      <td>17.0</td>\n",
       "      <td>?</td>\n",
       "      <td>1.0</td>\n",
       "      <td>10.0</td>\n",
       "      <td>1.0</td>\n",
       "      <td>1.0</td>\n",
       "      <td>3.0</td>\n",
       "      <td>0.0</td>\n",
       "      <td>0.0</td>\n",
       "      <td>...</td>\n",
       "      <td>0.0</td>\n",
       "      <td>0.0</td>\n",
       "      <td>0.0</td>\n",
       "      <td>0.0</td>\n",
       "      <td>0.0</td>\n",
       "      <td>0.0</td>\n",
       "      <td>0.0</td>\n",
       "      <td>0.0</td>\n",
       "      <td>?</td>\n",
       "      <td>?</td>\n",
       "    </tr>\n",
       "    <tr>\n",
       "      <th>524</th>\n",
       "      <td>1.0</td>\n",
       "      <td>17.0</td>\n",
       "      <td>3.0</td>\n",
       "      <td>0.0</td>\n",
       "      <td>0.0</td>\n",
       "      <td>0.0</td>\n",
       "      <td>1.0</td>\n",
       "      <td>0.16</td>\n",
       "      <td>1.0</td>\n",
       "      <td>5.0</td>\n",
       "      <td>...</td>\n",
       "      <td>0.0</td>\n",
       "      <td>0.0</td>\n",
       "      <td>0.0</td>\n",
       "      <td>0.0</td>\n",
       "      <td>0.0</td>\n",
       "      <td>0.0</td>\n",
       "      <td>0.0</td>\n",
       "      <td>0.0</td>\n",
       "      <td>?</td>\n",
       "      <td>?</td>\n",
       "    </tr>\n",
       "    <tr>\n",
       "      <th>215</th>\n",
       "      <td>1.0</td>\n",
       "      <td>24.0</td>\n",
       "      <td>1.0</td>\n",
       "      <td>0.0</td>\n",
       "      <td>0.0</td>\n",
       "      <td>0.0</td>\n",
       "      <td>1.0</td>\n",
       "      <td>0.08</td>\n",
       "      <td>0.0</td>\n",
       "      <td>0.0</td>\n",
       "      <td>...</td>\n",
       "      <td>0.0</td>\n",
       "      <td>0.0</td>\n",
       "      <td>0.0</td>\n",
       "      <td>0.0</td>\n",
       "      <td>0.0</td>\n",
       "      <td>0.0</td>\n",
       "      <td>0.0</td>\n",
       "      <td>0.0</td>\n",
       "      <td>?</td>\n",
       "      <td>?</td>\n",
       "    </tr>\n",
       "    <tr>\n",
       "      <th>620</th>\n",
       "      <td>3.0</td>\n",
       "      <td>18.0</td>\n",
       "      <td>2.0</td>\n",
       "      <td>1.0</td>\n",
       "      <td>5.0</td>\n",
       "      <td>0.5132021277</td>\n",
       "      <td>1.0</td>\n",
       "      <td>1.0</td>\n",
       "      <td>0.0</td>\n",
       "      <td>0.0</td>\n",
       "      <td>...</td>\n",
       "      <td>0.0</td>\n",
       "      <td>0.0</td>\n",
       "      <td>0.0</td>\n",
       "      <td>0.0</td>\n",
       "      <td>0.0</td>\n",
       "      <td>0.0</td>\n",
       "      <td>0.0</td>\n",
       "      <td>0.0</td>\n",
       "      <td>?</td>\n",
       "      <td>?</td>\n",
       "    </tr>\n",
       "    <tr>\n",
       "      <th>142</th>\n",
       "      <td>3.0</td>\n",
       "      <td>12.0</td>\n",
       "      <td>3.0</td>\n",
       "      <td>1.0</td>\n",
       "      <td>16.0</td>\n",
       "      <td>12.0</td>\n",
       "      <td>?</td>\n",
       "      <td>?</td>\n",
       "      <td>?</td>\n",
       "      <td>?</td>\n",
       "      <td>...</td>\n",
       "      <td>?</td>\n",
       "      <td>?</td>\n",
       "      <td>?</td>\n",
       "      <td>?</td>\n",
       "      <td>?</td>\n",
       "      <td>?</td>\n",
       "      <td>?</td>\n",
       "      <td>?</td>\n",
       "      <td>?</td>\n",
       "      <td>?</td>\n",
       "    </tr>\n",
       "    <tr>\n",
       "      <th>141</th>\n",
       "      <td>3.0</td>\n",
       "      <td>18.0</td>\n",
       "      <td>1.0</td>\n",
       "      <td>0.0</td>\n",
       "      <td>0.0</td>\n",
       "      <td>0.0</td>\n",
       "      <td>?</td>\n",
       "      <td>?</td>\n",
       "      <td>?</td>\n",
       "      <td>?</td>\n",
       "      <td>...</td>\n",
       "      <td>?</td>\n",
       "      <td>?</td>\n",
       "      <td>?</td>\n",
       "      <td>?</td>\n",
       "      <td>?</td>\n",
       "      <td>?</td>\n",
       "      <td>?</td>\n",
       "      <td>?</td>\n",
       "      <td>?</td>\n",
       "      <td>?</td>\n",
       "    </tr>\n",
       "  </tbody>\n",
       "</table>\n",
       "<p>10 rows × 26 columns</p>\n",
       "</div>"
      ],
      "text/plain": [
       "    Number of sexual partners First sexual intercourse Num of pregnancies  \\\n",
       "301                         ?                     16.0                1.0   \n",
       "789                       1.0                     18.0                1.0   \n",
       "452                       1.0                     16.0                1.0   \n",
       "344                       1.0                     17.0                1.0   \n",
       "650                       2.0                     17.0                  ?   \n",
       "524                       1.0                     17.0                3.0   \n",
       "215                       1.0                     24.0                1.0   \n",
       "620                       3.0                     18.0                2.0   \n",
       "142                       3.0                     12.0                3.0   \n",
       "141                       3.0                     18.0                1.0   \n",
       "\n",
       "    Smokes Smokes (years) Smokes (packs/year) Hormonal Contraceptives  \\\n",
       "301    0.0            0.0                 0.0                     0.0   \n",
       "789    0.0            0.0                 0.0                     0.0   \n",
       "452    0.0            0.0                 0.0                       ?   \n",
       "344    0.0            0.0                 0.0                     0.0   \n",
       "650    1.0           10.0                 1.0                     1.0   \n",
       "524    0.0            0.0                 0.0                     1.0   \n",
       "215    0.0            0.0                 0.0                     1.0   \n",
       "620    1.0            5.0        0.5132021277                     1.0   \n",
       "142    1.0           16.0                12.0                       ?   \n",
       "141    0.0            0.0                 0.0                       ?   \n",
       "\n",
       "    Hormonal Contraceptives (years)  IUD IUD (years)  ... STDs:syphilis  \\\n",
       "301                             0.0  0.0         0.0  ...           0.0   \n",
       "789                             0.0  0.0         0.0  ...           0.0   \n",
       "452                               ?    ?           ?  ...             ?   \n",
       "344                             0.0  0.0         0.0  ...           0.0   \n",
       "650                             3.0  0.0         0.0  ...           0.0   \n",
       "524                            0.16  1.0         5.0  ...           0.0   \n",
       "215                            0.08  0.0         0.0  ...           0.0   \n",
       "620                             1.0  0.0         0.0  ...           0.0   \n",
       "142                               ?    ?           ?  ...             ?   \n",
       "141                               ?    ?           ?  ...             ?   \n",
       "\n",
       "    STDs:pelvic inflammatory disease STDs:genital herpes  \\\n",
       "301                              0.0                 0.0   \n",
       "789                              0.0                 0.0   \n",
       "452                                ?                   ?   \n",
       "344                              0.0                 0.0   \n",
       "650                              0.0                 0.0   \n",
       "524                              0.0                 0.0   \n",
       "215                              0.0                 0.0   \n",
       "620                              0.0                 0.0   \n",
       "142                                ?                   ?   \n",
       "141                                ?                   ?   \n",
       "\n",
       "    STDs:molluscum contagiosum STDs:AIDS STDs:HIV STDs:Hepatitis B STDs:HPV  \\\n",
       "301                        0.0       0.0      0.0              0.0      0.0   \n",
       "789                        0.0       0.0      0.0              0.0      0.0   \n",
       "452                          ?         ?        ?                ?        ?   \n",
       "344                        0.0       0.0      0.0              0.0      0.0   \n",
       "650                        0.0       0.0      0.0              0.0      0.0   \n",
       "524                        0.0       0.0      0.0              0.0      0.0   \n",
       "215                        0.0       0.0      0.0              0.0      0.0   \n",
       "620                        0.0       0.0      0.0              0.0      0.0   \n",
       "142                          ?         ?        ?                ?        ?   \n",
       "141                          ?         ?        ?                ?        ?   \n",
       "\n",
       "    STDs: Time since first diagnosis STDs: Time since last diagnosis  \n",
       "301                                ?                               ?  \n",
       "789                              1.0                             1.0  \n",
       "452                                ?                               ?  \n",
       "344                                ?                               ?  \n",
       "650                                ?                               ?  \n",
       "524                                ?                               ?  \n",
       "215                                ?                               ?  \n",
       "620                                ?                               ?  \n",
       "142                                ?                               ?  \n",
       "141                                ?                               ?  \n",
       "\n",
       "[10 rows x 26 columns]"
      ]
     },
     "execution_count": 237,
     "metadata": {},
     "output_type": "execute_result"
    }
   ],
   "source": [
    "# Show the columns where datatype = 'object'\n",
    "X_train.select_dtypes(include='object').head(10)"
   ]
  },
  {
   "attachments": {},
   "cell_type": "markdown",
   "metadata": {},
   "source": [
    "We can observe that 26 columns have datatype 'object' although they consist mostly of floating point numbers. We can also see that some fields are filled with '?'. Thus, we can infer that the character '?' contributed to the heterogeneous data that resulted in the datatype 'object', and that '?' is used to represent missing values."
   ]
  },
  {
   "cell_type": "code",
   "execution_count": 238,
   "metadata": {},
   "outputs": [
    {
     "data": {
      "text/plain": [
       "Age                                     0\n",
       "Number of sexual partners              26\n",
       "First sexual intercourse                7\n",
       "Num of pregnancies                     51\n",
       "Smokes                                 12\n",
       "Smokes (years)                         12\n",
       "Smokes (packs/year)                    12\n",
       "Hormonal Contraceptives                98\n",
       "Hormonal Contraceptives (years)        98\n",
       "IUD                                   104\n",
       "IUD (years)                           104\n",
       "STDs                                   94\n",
       "STDs (number)                          94\n",
       "STDs:condylomatosis                    94\n",
       "STDs:cervical condylomatosis           94\n",
       "STDs:vaginal condylomatosis            94\n",
       "STDs:vulvo-perineal condylomatosis     94\n",
       "STDs:syphilis                          94\n",
       "STDs:pelvic inflammatory disease       94\n",
       "STDs:genital herpes                    94\n",
       "STDs:molluscum contagiosum             94\n",
       "STDs:AIDS                              94\n",
       "STDs:HIV                               94\n",
       "STDs:Hepatitis B                       94\n",
       "STDs:HPV                               94\n",
       "STDs: Number of diagnosis               0\n",
       "STDs: Time since first diagnosis      706\n",
       "STDs: Time since last diagnosis       706\n",
       "Dx:Cancer                               0\n",
       "Dx:CIN                                  0\n",
       "Dx:HPV                                  0\n",
       "Dx                                      0\n",
       "Hinselmann                              0\n",
       "Schiller                                0\n",
       "Citology                                0\n",
       "dtype: int64"
      ]
     },
     "execution_count": 238,
     "metadata": {},
     "output_type": "execute_result"
    }
   ],
   "source": [
    "# Count the number of missing values in the columns\n",
    "X_train[X_train == '?'].count()"
   ]
  },
  {
   "cell_type": "code",
   "execution_count": 239,
   "metadata": {},
   "outputs": [],
   "source": [
    "# Replace '?' in the columns with nan\n",
    "X_train_nan = X_train.copy()\n",
    "X_train_nan.replace('?', np.nan, inplace=True)\n",
    "\n",
    "# Create an instance of SimpleImputer with mean as the strategy\n",
    "mean_imputer = SimpleImputer(strategy='mean')\n",
    "\n",
    "# Fill in the nan values with the mean of their column values\n",
    "X_train_imputed = pd.DataFrame(mean_imputer.fit_transform(X_train_nan), columns=X_train.columns)\n"
   ]
  },
  {
   "cell_type": "code",
   "execution_count": 240,
   "metadata": {},
   "outputs": [
    {
     "data": {
      "text/plain": [
       "Age                                   False\n",
       "Number of sexual partners             False\n",
       "First sexual intercourse              False\n",
       "Num of pregnancies                    False\n",
       "Smokes                                False\n",
       "Smokes (years)                        False\n",
       "Smokes (packs/year)                   False\n",
       "Hormonal Contraceptives               False\n",
       "Hormonal Contraceptives (years)       False\n",
       "IUD                                   False\n",
       "IUD (years)                           False\n",
       "STDs                                  False\n",
       "STDs (number)                         False\n",
       "STDs:condylomatosis                   False\n",
       "STDs:cervical condylomatosis          False\n",
       "STDs:vaginal condylomatosis           False\n",
       "STDs:vulvo-perineal condylomatosis    False\n",
       "STDs:syphilis                         False\n",
       "STDs:pelvic inflammatory disease      False\n",
       "STDs:genital herpes                   False\n",
       "STDs:molluscum contagiosum            False\n",
       "STDs:AIDS                             False\n",
       "STDs:HIV                              False\n",
       "STDs:Hepatitis B                      False\n",
       "STDs:HPV                              False\n",
       "STDs: Number of diagnosis             False\n",
       "STDs: Time since first diagnosis      False\n",
       "STDs: Time since last diagnosis       False\n",
       "Dx:Cancer                             False\n",
       "Dx:CIN                                False\n",
       "Dx:HPV                                False\n",
       "Dx                                    False\n",
       "Hinselmann                            False\n",
       "Schiller                              False\n",
       "Citology                              False\n",
       "dtype: bool"
      ]
     },
     "execution_count": 240,
     "metadata": {},
     "output_type": "execute_result"
    }
   ],
   "source": [
    "# Check for null values\n",
    "X_train_imputed.isna().all()"
   ]
  },
  {
   "cell_type": "code",
   "execution_count": 241,
   "metadata": {},
   "outputs": [
    {
     "data": {
      "text/plain": [
       "Age                                   0\n",
       "Number of sexual partners             0\n",
       "First sexual intercourse              0\n",
       "Num of pregnancies                    0\n",
       "Smokes                                0\n",
       "Smokes (years)                        0\n",
       "Smokes (packs/year)                   0\n",
       "Hormonal Contraceptives               0\n",
       "Hormonal Contraceptives (years)       0\n",
       "IUD                                   0\n",
       "IUD (years)                           0\n",
       "STDs                                  0\n",
       "STDs (number)                         0\n",
       "STDs:condylomatosis                   0\n",
       "STDs:cervical condylomatosis          0\n",
       "STDs:vaginal condylomatosis           0\n",
       "STDs:vulvo-perineal condylomatosis    0\n",
       "STDs:syphilis                         0\n",
       "STDs:pelvic inflammatory disease      0\n",
       "STDs:genital herpes                   0\n",
       "STDs:molluscum contagiosum            0\n",
       "STDs:AIDS                             0\n",
       "STDs:HIV                              0\n",
       "STDs:Hepatitis B                      0\n",
       "STDs:HPV                              0\n",
       "STDs: Number of diagnosis             0\n",
       "STDs: Time since first diagnosis      0\n",
       "STDs: Time since last diagnosis       0\n",
       "Dx:Cancer                             0\n",
       "Dx:CIN                                0\n",
       "Dx:HPV                                0\n",
       "Dx                                    0\n",
       "Hinselmann                            0\n",
       "Schiller                              0\n",
       "Citology                              0\n",
       "dtype: int64"
      ]
     },
     "execution_count": 241,
     "metadata": {},
     "output_type": "execute_result"
    }
   ],
   "source": [
    "# Check if any '?' remains in the columns\n",
    "X_train_imputed[X_train_imputed=='?'].count()"
   ]
  },
  {
   "cell_type": "code",
   "execution_count": 242,
   "metadata": {},
   "outputs": [
    {
     "data": {
      "text/plain": [
       "Age                                   float64\n",
       "Number of sexual partners             float64\n",
       "First sexual intercourse              float64\n",
       "Num of pregnancies                    float64\n",
       "Smokes                                float64\n",
       "Smokes (years)                        float64\n",
       "Smokes (packs/year)                   float64\n",
       "Hormonal Contraceptives               float64\n",
       "Hormonal Contraceptives (years)       float64\n",
       "IUD                                   float64\n",
       "IUD (years)                           float64\n",
       "STDs                                  float64\n",
       "STDs (number)                         float64\n",
       "STDs:condylomatosis                   float64\n",
       "STDs:cervical condylomatosis          float64\n",
       "STDs:vaginal condylomatosis           float64\n",
       "STDs:vulvo-perineal condylomatosis    float64\n",
       "STDs:syphilis                         float64\n",
       "STDs:pelvic inflammatory disease      float64\n",
       "STDs:genital herpes                   float64\n",
       "STDs:molluscum contagiosum            float64\n",
       "STDs:AIDS                             float64\n",
       "STDs:HIV                              float64\n",
       "STDs:Hepatitis B                      float64\n",
       "STDs:HPV                              float64\n",
       "STDs: Number of diagnosis             float64\n",
       "STDs: Time since first diagnosis      float64\n",
       "STDs: Time since last diagnosis       float64\n",
       "Dx:Cancer                             float64\n",
       "Dx:CIN                                float64\n",
       "Dx:HPV                                float64\n",
       "Dx                                    float64\n",
       "Hinselmann                            float64\n",
       "Schiller                              float64\n",
       "Citology                              float64\n",
       "dtype: object"
      ]
     },
     "execution_count": 242,
     "metadata": {},
     "output_type": "execute_result"
    }
   ],
   "source": [
    "# Check if columns still consist of datatype = 'object'\n",
    "X_train_imputed.dtypes"
   ]
  },
  {
   "cell_type": "code",
   "execution_count": 243,
   "metadata": {},
   "outputs": [
    {
     "data": {
      "text/html": [
       "<div>\n",
       "<style scoped>\n",
       "    .dataframe tbody tr th:only-of-type {\n",
       "        vertical-align: middle;\n",
       "    }\n",
       "\n",
       "    .dataframe tbody tr th {\n",
       "        vertical-align: top;\n",
       "    }\n",
       "\n",
       "    .dataframe thead th {\n",
       "        text-align: right;\n",
       "    }\n",
       "</style>\n",
       "<table border=\"1\" class=\"dataframe\">\n",
       "  <thead>\n",
       "    <tr style=\"text-align: right;\">\n",
       "      <th></th>\n",
       "      <th>Age</th>\n",
       "      <th>Number of sexual partners</th>\n",
       "      <th>First sexual intercourse</th>\n",
       "      <th>Num of pregnancies</th>\n",
       "      <th>Smokes</th>\n",
       "      <th>Smokes (years)</th>\n",
       "      <th>Smokes (packs/year)</th>\n",
       "      <th>Hormonal Contraceptives</th>\n",
       "      <th>Hormonal Contraceptives (years)</th>\n",
       "      <th>IUD</th>\n",
       "      <th>...</th>\n",
       "      <th>STDs: Number of diagnosis</th>\n",
       "      <th>STDs: Time since first diagnosis</th>\n",
       "      <th>STDs: Time since last diagnosis</th>\n",
       "      <th>Dx:Cancer</th>\n",
       "      <th>Dx:CIN</th>\n",
       "      <th>Dx:HPV</th>\n",
       "      <th>Dx</th>\n",
       "      <th>Hinselmann</th>\n",
       "      <th>Schiller</th>\n",
       "      <th>Citology</th>\n",
       "    </tr>\n",
       "  </thead>\n",
       "  <tbody>\n",
       "    <tr>\n",
       "      <th>0</th>\n",
       "      <td>20.0</td>\n",
       "      <td>2.540214</td>\n",
       "      <td>16.0</td>\n",
       "      <td>1.000000</td>\n",
       "      <td>0.0</td>\n",
       "      <td>0.0</td>\n",
       "      <td>0.0</td>\n",
       "      <td>0.000000</td>\n",
       "      <td>0.000000</td>\n",
       "      <td>0.000000</td>\n",
       "      <td>...</td>\n",
       "      <td>0.0</td>\n",
       "      <td>6.151515</td>\n",
       "      <td>5.80303</td>\n",
       "      <td>0.0</td>\n",
       "      <td>0.0</td>\n",
       "      <td>0.0</td>\n",
       "      <td>0.0</td>\n",
       "      <td>0.0</td>\n",
       "      <td>0.0</td>\n",
       "      <td>0.0</td>\n",
       "    </tr>\n",
       "    <tr>\n",
       "      <th>1</th>\n",
       "      <td>20.0</td>\n",
       "      <td>1.000000</td>\n",
       "      <td>18.0</td>\n",
       "      <td>1.000000</td>\n",
       "      <td>0.0</td>\n",
       "      <td>0.0</td>\n",
       "      <td>0.0</td>\n",
       "      <td>0.000000</td>\n",
       "      <td>0.000000</td>\n",
       "      <td>0.000000</td>\n",
       "      <td>...</td>\n",
       "      <td>1.0</td>\n",
       "      <td>1.000000</td>\n",
       "      <td>1.00000</td>\n",
       "      <td>0.0</td>\n",
       "      <td>0.0</td>\n",
       "      <td>0.0</td>\n",
       "      <td>0.0</td>\n",
       "      <td>0.0</td>\n",
       "      <td>0.0</td>\n",
       "      <td>0.0</td>\n",
       "    </tr>\n",
       "    <tr>\n",
       "      <th>2</th>\n",
       "      <td>17.0</td>\n",
       "      <td>1.000000</td>\n",
       "      <td>16.0</td>\n",
       "      <td>1.000000</td>\n",
       "      <td>0.0</td>\n",
       "      <td>0.0</td>\n",
       "      <td>0.0</td>\n",
       "      <td>0.642433</td>\n",
       "      <td>2.248609</td>\n",
       "      <td>0.106287</td>\n",
       "      <td>...</td>\n",
       "      <td>0.0</td>\n",
       "      <td>6.151515</td>\n",
       "      <td>5.80303</td>\n",
       "      <td>0.0</td>\n",
       "      <td>0.0</td>\n",
       "      <td>0.0</td>\n",
       "      <td>0.0</td>\n",
       "      <td>0.0</td>\n",
       "      <td>0.0</td>\n",
       "      <td>0.0</td>\n",
       "    </tr>\n",
       "    <tr>\n",
       "      <th>3</th>\n",
       "      <td>18.0</td>\n",
       "      <td>1.000000</td>\n",
       "      <td>17.0</td>\n",
       "      <td>1.000000</td>\n",
       "      <td>0.0</td>\n",
       "      <td>0.0</td>\n",
       "      <td>0.0</td>\n",
       "      <td>0.000000</td>\n",
       "      <td>0.000000</td>\n",
       "      <td>0.000000</td>\n",
       "      <td>...</td>\n",
       "      <td>0.0</td>\n",
       "      <td>6.151515</td>\n",
       "      <td>5.80303</td>\n",
       "      <td>0.0</td>\n",
       "      <td>0.0</td>\n",
       "      <td>0.0</td>\n",
       "      <td>0.0</td>\n",
       "      <td>0.0</td>\n",
       "      <td>0.0</td>\n",
       "      <td>0.0</td>\n",
       "    </tr>\n",
       "    <tr>\n",
       "      <th>4</th>\n",
       "      <td>26.0</td>\n",
       "      <td>2.000000</td>\n",
       "      <td>17.0</td>\n",
       "      <td>2.245492</td>\n",
       "      <td>1.0</td>\n",
       "      <td>10.0</td>\n",
       "      <td>1.0</td>\n",
       "      <td>1.000000</td>\n",
       "      <td>3.000000</td>\n",
       "      <td>0.000000</td>\n",
       "      <td>...</td>\n",
       "      <td>0.0</td>\n",
       "      <td>6.151515</td>\n",
       "      <td>5.80303</td>\n",
       "      <td>0.0</td>\n",
       "      <td>0.0</td>\n",
       "      <td>0.0</td>\n",
       "      <td>0.0</td>\n",
       "      <td>0.0</td>\n",
       "      <td>0.0</td>\n",
       "      <td>0.0</td>\n",
       "    </tr>\n",
       "    <tr>\n",
       "      <th>...</th>\n",
       "      <td>...</td>\n",
       "      <td>...</td>\n",
       "      <td>...</td>\n",
       "      <td>...</td>\n",
       "      <td>...</td>\n",
       "      <td>...</td>\n",
       "      <td>...</td>\n",
       "      <td>...</td>\n",
       "      <td>...</td>\n",
       "      <td>...</td>\n",
       "      <td>...</td>\n",
       "      <td>...</td>\n",
       "      <td>...</td>\n",
       "      <td>...</td>\n",
       "      <td>...</td>\n",
       "      <td>...</td>\n",
       "      <td>...</td>\n",
       "      <td>...</td>\n",
       "      <td>...</td>\n",
       "      <td>...</td>\n",
       "      <td>...</td>\n",
       "    </tr>\n",
       "    <tr>\n",
       "      <th>767</th>\n",
       "      <td>24.0</td>\n",
       "      <td>1.000000</td>\n",
       "      <td>14.0</td>\n",
       "      <td>0.000000</td>\n",
       "      <td>0.0</td>\n",
       "      <td>0.0</td>\n",
       "      <td>0.0</td>\n",
       "      <td>0.000000</td>\n",
       "      <td>0.000000</td>\n",
       "      <td>0.000000</td>\n",
       "      <td>...</td>\n",
       "      <td>0.0</td>\n",
       "      <td>6.151515</td>\n",
       "      <td>5.80303</td>\n",
       "      <td>0.0</td>\n",
       "      <td>0.0</td>\n",
       "      <td>0.0</td>\n",
       "      <td>0.0</td>\n",
       "      <td>0.0</td>\n",
       "      <td>0.0</td>\n",
       "      <td>0.0</td>\n",
       "    </tr>\n",
       "    <tr>\n",
       "      <th>768</th>\n",
       "      <td>27.0</td>\n",
       "      <td>2.000000</td>\n",
       "      <td>17.0</td>\n",
       "      <td>4.000000</td>\n",
       "      <td>0.0</td>\n",
       "      <td>0.0</td>\n",
       "      <td>0.0</td>\n",
       "      <td>1.000000</td>\n",
       "      <td>2.000000</td>\n",
       "      <td>0.000000</td>\n",
       "      <td>...</td>\n",
       "      <td>0.0</td>\n",
       "      <td>6.151515</td>\n",
       "      <td>5.80303</td>\n",
       "      <td>0.0</td>\n",
       "      <td>0.0</td>\n",
       "      <td>0.0</td>\n",
       "      <td>0.0</td>\n",
       "      <td>0.0</td>\n",
       "      <td>0.0</td>\n",
       "      <td>0.0</td>\n",
       "    </tr>\n",
       "    <tr>\n",
       "      <th>769</th>\n",
       "      <td>24.0</td>\n",
       "      <td>1.000000</td>\n",
       "      <td>17.0</td>\n",
       "      <td>3.000000</td>\n",
       "      <td>0.0</td>\n",
       "      <td>0.0</td>\n",
       "      <td>0.0</td>\n",
       "      <td>1.000000</td>\n",
       "      <td>6.000000</td>\n",
       "      <td>0.000000</td>\n",
       "      <td>...</td>\n",
       "      <td>0.0</td>\n",
       "      <td>6.151515</td>\n",
       "      <td>5.80303</td>\n",
       "      <td>0.0</td>\n",
       "      <td>0.0</td>\n",
       "      <td>0.0</td>\n",
       "      <td>0.0</td>\n",
       "      <td>0.0</td>\n",
       "      <td>0.0</td>\n",
       "      <td>0.0</td>\n",
       "    </tr>\n",
       "    <tr>\n",
       "      <th>770</th>\n",
       "      <td>20.0</td>\n",
       "      <td>1.000000</td>\n",
       "      <td>16.0</td>\n",
       "      <td>2.000000</td>\n",
       "      <td>0.0</td>\n",
       "      <td>0.0</td>\n",
       "      <td>0.0</td>\n",
       "      <td>0.000000</td>\n",
       "      <td>0.000000</td>\n",
       "      <td>0.000000</td>\n",
       "      <td>...</td>\n",
       "      <td>0.0</td>\n",
       "      <td>6.151515</td>\n",
       "      <td>5.80303</td>\n",
       "      <td>0.0</td>\n",
       "      <td>0.0</td>\n",
       "      <td>0.0</td>\n",
       "      <td>0.0</td>\n",
       "      <td>0.0</td>\n",
       "      <td>0.0</td>\n",
       "      <td>0.0</td>\n",
       "    </tr>\n",
       "    <tr>\n",
       "      <th>771</th>\n",
       "      <td>46.0</td>\n",
       "      <td>1.000000</td>\n",
       "      <td>15.0</td>\n",
       "      <td>6.000000</td>\n",
       "      <td>0.0</td>\n",
       "      <td>0.0</td>\n",
       "      <td>0.0</td>\n",
       "      <td>0.000000</td>\n",
       "      <td>0.000000</td>\n",
       "      <td>0.000000</td>\n",
       "      <td>...</td>\n",
       "      <td>0.0</td>\n",
       "      <td>6.151515</td>\n",
       "      <td>5.80303</td>\n",
       "      <td>0.0</td>\n",
       "      <td>0.0</td>\n",
       "      <td>0.0</td>\n",
       "      <td>0.0</td>\n",
       "      <td>0.0</td>\n",
       "      <td>0.0</td>\n",
       "      <td>0.0</td>\n",
       "    </tr>\n",
       "  </tbody>\n",
       "</table>\n",
       "<p>772 rows × 35 columns</p>\n",
       "</div>"
      ],
      "text/plain": [
       "      Age  Number of sexual partners  First sexual intercourse  \\\n",
       "0    20.0                   2.540214                      16.0   \n",
       "1    20.0                   1.000000                      18.0   \n",
       "2    17.0                   1.000000                      16.0   \n",
       "3    18.0                   1.000000                      17.0   \n",
       "4    26.0                   2.000000                      17.0   \n",
       "..    ...                        ...                       ...   \n",
       "767  24.0                   1.000000                      14.0   \n",
       "768  27.0                   2.000000                      17.0   \n",
       "769  24.0                   1.000000                      17.0   \n",
       "770  20.0                   1.000000                      16.0   \n",
       "771  46.0                   1.000000                      15.0   \n",
       "\n",
       "     Num of pregnancies  Smokes  Smokes (years)  Smokes (packs/year)  \\\n",
       "0              1.000000     0.0             0.0                  0.0   \n",
       "1              1.000000     0.0             0.0                  0.0   \n",
       "2              1.000000     0.0             0.0                  0.0   \n",
       "3              1.000000     0.0             0.0                  0.0   \n",
       "4              2.245492     1.0            10.0                  1.0   \n",
       "..                  ...     ...             ...                  ...   \n",
       "767            0.000000     0.0             0.0                  0.0   \n",
       "768            4.000000     0.0             0.0                  0.0   \n",
       "769            3.000000     0.0             0.0                  0.0   \n",
       "770            2.000000     0.0             0.0                  0.0   \n",
       "771            6.000000     0.0             0.0                  0.0   \n",
       "\n",
       "     Hormonal Contraceptives  Hormonal Contraceptives (years)       IUD  ...  \\\n",
       "0                   0.000000                         0.000000  0.000000  ...   \n",
       "1                   0.000000                         0.000000  0.000000  ...   \n",
       "2                   0.642433                         2.248609  0.106287  ...   \n",
       "3                   0.000000                         0.000000  0.000000  ...   \n",
       "4                   1.000000                         3.000000  0.000000  ...   \n",
       "..                       ...                              ...       ...  ...   \n",
       "767                 0.000000                         0.000000  0.000000  ...   \n",
       "768                 1.000000                         2.000000  0.000000  ...   \n",
       "769                 1.000000                         6.000000  0.000000  ...   \n",
       "770                 0.000000                         0.000000  0.000000  ...   \n",
       "771                 0.000000                         0.000000  0.000000  ...   \n",
       "\n",
       "     STDs: Number of diagnosis  STDs: Time since first diagnosis  \\\n",
       "0                          0.0                          6.151515   \n",
       "1                          1.0                          1.000000   \n",
       "2                          0.0                          6.151515   \n",
       "3                          0.0                          6.151515   \n",
       "4                          0.0                          6.151515   \n",
       "..                         ...                               ...   \n",
       "767                        0.0                          6.151515   \n",
       "768                        0.0                          6.151515   \n",
       "769                        0.0                          6.151515   \n",
       "770                        0.0                          6.151515   \n",
       "771                        0.0                          6.151515   \n",
       "\n",
       "     STDs: Time since last diagnosis  Dx:Cancer  Dx:CIN  Dx:HPV   Dx  \\\n",
       "0                            5.80303        0.0     0.0     0.0  0.0   \n",
       "1                            1.00000        0.0     0.0     0.0  0.0   \n",
       "2                            5.80303        0.0     0.0     0.0  0.0   \n",
       "3                            5.80303        0.0     0.0     0.0  0.0   \n",
       "4                            5.80303        0.0     0.0     0.0  0.0   \n",
       "..                               ...        ...     ...     ...  ...   \n",
       "767                          5.80303        0.0     0.0     0.0  0.0   \n",
       "768                          5.80303        0.0     0.0     0.0  0.0   \n",
       "769                          5.80303        0.0     0.0     0.0  0.0   \n",
       "770                          5.80303        0.0     0.0     0.0  0.0   \n",
       "771                          5.80303        0.0     0.0     0.0  0.0   \n",
       "\n",
       "     Hinselmann  Schiller  Citology  \n",
       "0           0.0       0.0       0.0  \n",
       "1           0.0       0.0       0.0  \n",
       "2           0.0       0.0       0.0  \n",
       "3           0.0       0.0       0.0  \n",
       "4           0.0       0.0       0.0  \n",
       "..          ...       ...       ...  \n",
       "767         0.0       0.0       0.0  \n",
       "768         0.0       0.0       0.0  \n",
       "769         0.0       0.0       0.0  \n",
       "770         0.0       0.0       0.0  \n",
       "771         0.0       0.0       0.0  \n",
       "\n",
       "[772 rows x 35 columns]"
      ]
     },
     "execution_count": 243,
     "metadata": {},
     "output_type": "execute_result"
    }
   ],
   "source": [
    "X_train_imputed\n"
   ]
  },
  {
   "attachments": {},
   "cell_type": "markdown",
   "metadata": {},
   "source": [
    "##### Outlier Detection\n"
   ]
  },
  {
   "cell_type": "code",
   "execution_count": 244,
   "metadata": {},
   "outputs": [
    {
     "data": {
      "text/html": [
       "<div>\n",
       "<style scoped>\n",
       "    .dataframe tbody tr th:only-of-type {\n",
       "        vertical-align: middle;\n",
       "    }\n",
       "\n",
       "    .dataframe tbody tr th {\n",
       "        vertical-align: top;\n",
       "    }\n",
       "\n",
       "    .dataframe thead th {\n",
       "        text-align: right;\n",
       "    }\n",
       "</style>\n",
       "<table border=\"1\" class=\"dataframe\">\n",
       "  <thead>\n",
       "    <tr style=\"text-align: right;\">\n",
       "      <th></th>\n",
       "      <th>Age</th>\n",
       "      <th>Number of sexual partners</th>\n",
       "      <th>First sexual intercourse</th>\n",
       "      <th>Num of pregnancies</th>\n",
       "      <th>Smokes</th>\n",
       "      <th>Smokes (years)</th>\n",
       "      <th>Smokes (packs/year)</th>\n",
       "      <th>Hormonal Contraceptives</th>\n",
       "      <th>Hormonal Contraceptives (years)</th>\n",
       "      <th>IUD</th>\n",
       "      <th>IUD (years)</th>\n",
       "      <th>STDs</th>\n",
       "      <th>STDs (number)</th>\n",
       "      <th>STDs:condylomatosis</th>\n",
       "      <th>STDs:cervical condylomatosis</th>\n",
       "      <th>STDs:vaginal condylomatosis</th>\n",
       "      <th>STDs:vulvo-perineal condylomatosis</th>\n",
       "      <th>STDs:syphilis</th>\n",
       "    </tr>\n",
       "  </thead>\n",
       "  <tbody>\n",
       "    <tr>\n",
       "      <th>count</th>\n",
       "      <td>772.000000</td>\n",
       "      <td>772.000000</td>\n",
       "      <td>772.000000</td>\n",
       "      <td>772.000000</td>\n",
       "      <td>772.000000</td>\n",
       "      <td>772.000000</td>\n",
       "      <td>772.000000</td>\n",
       "      <td>772.000000</td>\n",
       "      <td>772.000000</td>\n",
       "      <td>772.000000</td>\n",
       "      <td>772.000000</td>\n",
       "      <td>772.000000</td>\n",
       "      <td>772.000000</td>\n",
       "      <td>772.000000</td>\n",
       "      <td>772.0</td>\n",
       "      <td>772.000000</td>\n",
       "      <td>772.000000</td>\n",
       "      <td>772.000000</td>\n",
       "    </tr>\n",
       "    <tr>\n",
       "      <th>mean</th>\n",
       "      <td>26.769430</td>\n",
       "      <td>2.540214</td>\n",
       "      <td>16.963399</td>\n",
       "      <td>2.245492</td>\n",
       "      <td>0.151316</td>\n",
       "      <td>1.253155</td>\n",
       "      <td>0.480533</td>\n",
       "      <td>0.642433</td>\n",
       "      <td>2.248609</td>\n",
       "      <td>0.106287</td>\n",
       "      <td>0.494222</td>\n",
       "      <td>0.107670</td>\n",
       "      <td>0.178466</td>\n",
       "      <td>0.058997</td>\n",
       "      <td>0.0</td>\n",
       "      <td>0.005900</td>\n",
       "      <td>0.057522</td>\n",
       "      <td>0.023599</td>\n",
       "    </tr>\n",
       "    <tr>\n",
       "      <th>std</th>\n",
       "      <td>8.315672</td>\n",
       "      <td>1.678928</td>\n",
       "      <td>2.819925</td>\n",
       "      <td>1.362623</td>\n",
       "      <td>0.355791</td>\n",
       "      <td>4.043737</td>\n",
       "      <td>2.303233</td>\n",
       "      <td>0.448121</td>\n",
       "      <td>3.414818</td>\n",
       "      <td>0.286880</td>\n",
       "      <td>1.808630</td>\n",
       "      <td>0.290668</td>\n",
       "      <td>0.523638</td>\n",
       "      <td>0.220952</td>\n",
       "      <td>0.0</td>\n",
       "      <td>0.071815</td>\n",
       "      <td>0.218344</td>\n",
       "      <td>0.142347</td>\n",
       "    </tr>\n",
       "    <tr>\n",
       "      <th>min</th>\n",
       "      <td>14.000000</td>\n",
       "      <td>1.000000</td>\n",
       "      <td>10.000000</td>\n",
       "      <td>0.000000</td>\n",
       "      <td>0.000000</td>\n",
       "      <td>0.000000</td>\n",
       "      <td>0.000000</td>\n",
       "      <td>0.000000</td>\n",
       "      <td>0.000000</td>\n",
       "      <td>0.000000</td>\n",
       "      <td>0.000000</td>\n",
       "      <td>0.000000</td>\n",
       "      <td>0.000000</td>\n",
       "      <td>0.000000</td>\n",
       "      <td>0.0</td>\n",
       "      <td>0.000000</td>\n",
       "      <td>0.000000</td>\n",
       "      <td>0.000000</td>\n",
       "    </tr>\n",
       "    <tr>\n",
       "      <th>25%</th>\n",
       "      <td>20.000000</td>\n",
       "      <td>2.000000</td>\n",
       "      <td>15.000000</td>\n",
       "      <td>1.000000</td>\n",
       "      <td>0.000000</td>\n",
       "      <td>0.000000</td>\n",
       "      <td>0.000000</td>\n",
       "      <td>0.000000</td>\n",
       "      <td>0.000000</td>\n",
       "      <td>0.000000</td>\n",
       "      <td>0.000000</td>\n",
       "      <td>0.000000</td>\n",
       "      <td>0.000000</td>\n",
       "      <td>0.000000</td>\n",
       "      <td>0.0</td>\n",
       "      <td>0.000000</td>\n",
       "      <td>0.000000</td>\n",
       "      <td>0.000000</td>\n",
       "    </tr>\n",
       "    <tr>\n",
       "      <th>50%</th>\n",
       "      <td>25.500000</td>\n",
       "      <td>2.000000</td>\n",
       "      <td>17.000000</td>\n",
       "      <td>2.000000</td>\n",
       "      <td>0.000000</td>\n",
       "      <td>0.000000</td>\n",
       "      <td>0.000000</td>\n",
       "      <td>1.000000</td>\n",
       "      <td>1.000000</td>\n",
       "      <td>0.000000</td>\n",
       "      <td>0.000000</td>\n",
       "      <td>0.000000</td>\n",
       "      <td>0.000000</td>\n",
       "      <td>0.000000</td>\n",
       "      <td>0.0</td>\n",
       "      <td>0.000000</td>\n",
       "      <td>0.000000</td>\n",
       "      <td>0.000000</td>\n",
       "    </tr>\n",
       "    <tr>\n",
       "      <th>75%</th>\n",
       "      <td>32.000000</td>\n",
       "      <td>3.000000</td>\n",
       "      <td>18.000000</td>\n",
       "      <td>3.000000</td>\n",
       "      <td>0.000000</td>\n",
       "      <td>0.000000</td>\n",
       "      <td>0.000000</td>\n",
       "      <td>1.000000</td>\n",
       "      <td>2.248609</td>\n",
       "      <td>0.000000</td>\n",
       "      <td>0.000000</td>\n",
       "      <td>0.000000</td>\n",
       "      <td>0.000000</td>\n",
       "      <td>0.000000</td>\n",
       "      <td>0.0</td>\n",
       "      <td>0.000000</td>\n",
       "      <td>0.000000</td>\n",
       "      <td>0.000000</td>\n",
       "    </tr>\n",
       "    <tr>\n",
       "      <th>max</th>\n",
       "      <td>79.000000</td>\n",
       "      <td>28.000000</td>\n",
       "      <td>32.000000</td>\n",
       "      <td>10.000000</td>\n",
       "      <td>1.000000</td>\n",
       "      <td>37.000000</td>\n",
       "      <td>37.000000</td>\n",
       "      <td>1.000000</td>\n",
       "      <td>22.000000</td>\n",
       "      <td>1.000000</td>\n",
       "      <td>19.000000</td>\n",
       "      <td>1.000000</td>\n",
       "      <td>4.000000</td>\n",
       "      <td>1.000000</td>\n",
       "      <td>0.0</td>\n",
       "      <td>1.000000</td>\n",
       "      <td>1.000000</td>\n",
       "      <td>1.000000</td>\n",
       "    </tr>\n",
       "  </tbody>\n",
       "</table>\n",
       "</div>"
      ],
      "text/plain": [
       "              Age  Number of sexual partners  First sexual intercourse  \\\n",
       "count  772.000000                 772.000000                772.000000   \n",
       "mean    26.769430                   2.540214                 16.963399   \n",
       "std      8.315672                   1.678928                  2.819925   \n",
       "min     14.000000                   1.000000                 10.000000   \n",
       "25%     20.000000                   2.000000                 15.000000   \n",
       "50%     25.500000                   2.000000                 17.000000   \n",
       "75%     32.000000                   3.000000                 18.000000   \n",
       "max     79.000000                  28.000000                 32.000000   \n",
       "\n",
       "       Num of pregnancies      Smokes  Smokes (years)  Smokes (packs/year)  \\\n",
       "count          772.000000  772.000000      772.000000           772.000000   \n",
       "mean             2.245492    0.151316        1.253155             0.480533   \n",
       "std              1.362623    0.355791        4.043737             2.303233   \n",
       "min              0.000000    0.000000        0.000000             0.000000   \n",
       "25%              1.000000    0.000000        0.000000             0.000000   \n",
       "50%              2.000000    0.000000        0.000000             0.000000   \n",
       "75%              3.000000    0.000000        0.000000             0.000000   \n",
       "max             10.000000    1.000000       37.000000            37.000000   \n",
       "\n",
       "       Hormonal Contraceptives  Hormonal Contraceptives (years)         IUD  \\\n",
       "count               772.000000                       772.000000  772.000000   \n",
       "mean                  0.642433                         2.248609    0.106287   \n",
       "std                   0.448121                         3.414818    0.286880   \n",
       "min                   0.000000                         0.000000    0.000000   \n",
       "25%                   0.000000                         0.000000    0.000000   \n",
       "50%                   1.000000                         1.000000    0.000000   \n",
       "75%                   1.000000                         2.248609    0.000000   \n",
       "max                   1.000000                        22.000000    1.000000   \n",
       "\n",
       "       IUD (years)        STDs  STDs (number)  STDs:condylomatosis  \\\n",
       "count   772.000000  772.000000     772.000000           772.000000   \n",
       "mean      0.494222    0.107670       0.178466             0.058997   \n",
       "std       1.808630    0.290668       0.523638             0.220952   \n",
       "min       0.000000    0.000000       0.000000             0.000000   \n",
       "25%       0.000000    0.000000       0.000000             0.000000   \n",
       "50%       0.000000    0.000000       0.000000             0.000000   \n",
       "75%       0.000000    0.000000       0.000000             0.000000   \n",
       "max      19.000000    1.000000       4.000000             1.000000   \n",
       "\n",
       "       STDs:cervical condylomatosis  STDs:vaginal condylomatosis  \\\n",
       "count                         772.0                   772.000000   \n",
       "mean                            0.0                     0.005900   \n",
       "std                             0.0                     0.071815   \n",
       "min                             0.0                     0.000000   \n",
       "25%                             0.0                     0.000000   \n",
       "50%                             0.0                     0.000000   \n",
       "75%                             0.0                     0.000000   \n",
       "max                             0.0                     1.000000   \n",
       "\n",
       "       STDs:vulvo-perineal condylomatosis  STDs:syphilis  \n",
       "count                          772.000000     772.000000  \n",
       "mean                             0.057522       0.023599  \n",
       "std                              0.218344       0.142347  \n",
       "min                              0.000000       0.000000  \n",
       "25%                              0.000000       0.000000  \n",
       "50%                              0.000000       0.000000  \n",
       "75%                              0.000000       0.000000  \n",
       "max                              1.000000       1.000000  "
      ]
     },
     "execution_count": 244,
     "metadata": {},
     "output_type": "execute_result"
    }
   ],
   "source": [
    "X_train_imputed.iloc[:,0:18].describe(include = 'all')"
   ]
  },
  {
   "cell_type": "code",
   "execution_count": 245,
   "metadata": {},
   "outputs": [
    {
     "data": {
      "text/html": [
       "<div>\n",
       "<style scoped>\n",
       "    .dataframe tbody tr th:only-of-type {\n",
       "        vertical-align: middle;\n",
       "    }\n",
       "\n",
       "    .dataframe tbody tr th {\n",
       "        vertical-align: top;\n",
       "    }\n",
       "\n",
       "    .dataframe thead th {\n",
       "        text-align: right;\n",
       "    }\n",
       "</style>\n",
       "<table border=\"1\" class=\"dataframe\">\n",
       "  <thead>\n",
       "    <tr style=\"text-align: right;\">\n",
       "      <th></th>\n",
       "      <th>STDs:pelvic inflammatory disease</th>\n",
       "      <th>STDs:genital herpes</th>\n",
       "      <th>STDs:molluscum contagiosum</th>\n",
       "      <th>STDs:AIDS</th>\n",
       "      <th>STDs:HIV</th>\n",
       "      <th>STDs:Hepatitis B</th>\n",
       "      <th>STDs:HPV</th>\n",
       "      <th>STDs: Number of diagnosis</th>\n",
       "      <th>STDs: Time since first diagnosis</th>\n",
       "      <th>STDs: Time since last diagnosis</th>\n",
       "      <th>Dx:Cancer</th>\n",
       "      <th>Dx:CIN</th>\n",
       "      <th>Dx:HPV</th>\n",
       "      <th>Dx</th>\n",
       "      <th>Hinselmann</th>\n",
       "      <th>Schiller</th>\n",
       "      <th>Citology</th>\n",
       "    </tr>\n",
       "  </thead>\n",
       "  <tbody>\n",
       "    <tr>\n",
       "      <th>count</th>\n",
       "      <td>772.000000</td>\n",
       "      <td>772.000000</td>\n",
       "      <td>772.000000</td>\n",
       "      <td>772.0</td>\n",
       "      <td>772.000000</td>\n",
       "      <td>772.000000</td>\n",
       "      <td>772.000000</td>\n",
       "      <td>772.000000</td>\n",
       "      <td>772.000000</td>\n",
       "      <td>772.000000</td>\n",
       "      <td>772.000000</td>\n",
       "      <td>772.000000</td>\n",
       "      <td>772.000000</td>\n",
       "      <td>772.000000</td>\n",
       "      <td>772.000000</td>\n",
       "      <td>772.000000</td>\n",
       "      <td>772.000000</td>\n",
       "    </tr>\n",
       "    <tr>\n",
       "      <th>mean</th>\n",
       "      <td>0.001475</td>\n",
       "      <td>0.001475</td>\n",
       "      <td>0.001475</td>\n",
       "      <td>0.0</td>\n",
       "      <td>0.023599</td>\n",
       "      <td>0.001475</td>\n",
       "      <td>0.002950</td>\n",
       "      <td>0.090674</td>\n",
       "      <td>6.151515</td>\n",
       "      <td>5.803030</td>\n",
       "      <td>0.022021</td>\n",
       "      <td>0.010363</td>\n",
       "      <td>0.022021</td>\n",
       "      <td>0.028497</td>\n",
       "      <td>0.042746</td>\n",
       "      <td>0.088083</td>\n",
       "      <td>0.046632</td>\n",
       "    </tr>\n",
       "    <tr>\n",
       "      <th>std</th>\n",
       "      <td>0.035988</td>\n",
       "      <td>0.035988</td>\n",
       "      <td>0.035988</td>\n",
       "      <td>0.0</td>\n",
       "      <td>0.142347</td>\n",
       "      <td>0.035988</td>\n",
       "      <td>0.050856</td>\n",
       "      <td>0.309078</td>\n",
       "      <td>1.757875</td>\n",
       "      <td>1.715285</td>\n",
       "      <td>0.146846</td>\n",
       "      <td>0.101334</td>\n",
       "      <td>0.146846</td>\n",
       "      <td>0.166497</td>\n",
       "      <td>0.202415</td>\n",
       "      <td>0.283599</td>\n",
       "      <td>0.210986</td>\n",
       "    </tr>\n",
       "    <tr>\n",
       "      <th>min</th>\n",
       "      <td>0.000000</td>\n",
       "      <td>0.000000</td>\n",
       "      <td>0.000000</td>\n",
       "      <td>0.0</td>\n",
       "      <td>0.000000</td>\n",
       "      <td>0.000000</td>\n",
       "      <td>0.000000</td>\n",
       "      <td>0.000000</td>\n",
       "      <td>1.000000</td>\n",
       "      <td>1.000000</td>\n",
       "      <td>0.000000</td>\n",
       "      <td>0.000000</td>\n",
       "      <td>0.000000</td>\n",
       "      <td>0.000000</td>\n",
       "      <td>0.000000</td>\n",
       "      <td>0.000000</td>\n",
       "      <td>0.000000</td>\n",
       "    </tr>\n",
       "    <tr>\n",
       "      <th>25%</th>\n",
       "      <td>0.000000</td>\n",
       "      <td>0.000000</td>\n",
       "      <td>0.000000</td>\n",
       "      <td>0.0</td>\n",
       "      <td>0.000000</td>\n",
       "      <td>0.000000</td>\n",
       "      <td>0.000000</td>\n",
       "      <td>0.000000</td>\n",
       "      <td>6.151515</td>\n",
       "      <td>5.803030</td>\n",
       "      <td>0.000000</td>\n",
       "      <td>0.000000</td>\n",
       "      <td>0.000000</td>\n",
       "      <td>0.000000</td>\n",
       "      <td>0.000000</td>\n",
       "      <td>0.000000</td>\n",
       "      <td>0.000000</td>\n",
       "    </tr>\n",
       "    <tr>\n",
       "      <th>50%</th>\n",
       "      <td>0.000000</td>\n",
       "      <td>0.000000</td>\n",
       "      <td>0.000000</td>\n",
       "      <td>0.0</td>\n",
       "      <td>0.000000</td>\n",
       "      <td>0.000000</td>\n",
       "      <td>0.000000</td>\n",
       "      <td>0.000000</td>\n",
       "      <td>6.151515</td>\n",
       "      <td>5.803030</td>\n",
       "      <td>0.000000</td>\n",
       "      <td>0.000000</td>\n",
       "      <td>0.000000</td>\n",
       "      <td>0.000000</td>\n",
       "      <td>0.000000</td>\n",
       "      <td>0.000000</td>\n",
       "      <td>0.000000</td>\n",
       "    </tr>\n",
       "    <tr>\n",
       "      <th>75%</th>\n",
       "      <td>0.000000</td>\n",
       "      <td>0.000000</td>\n",
       "      <td>0.000000</td>\n",
       "      <td>0.0</td>\n",
       "      <td>0.000000</td>\n",
       "      <td>0.000000</td>\n",
       "      <td>0.000000</td>\n",
       "      <td>0.000000</td>\n",
       "      <td>6.151515</td>\n",
       "      <td>5.803030</td>\n",
       "      <td>0.000000</td>\n",
       "      <td>0.000000</td>\n",
       "      <td>0.000000</td>\n",
       "      <td>0.000000</td>\n",
       "      <td>0.000000</td>\n",
       "      <td>0.000000</td>\n",
       "      <td>0.000000</td>\n",
       "    </tr>\n",
       "    <tr>\n",
       "      <th>max</th>\n",
       "      <td>1.000000</td>\n",
       "      <td>1.000000</td>\n",
       "      <td>1.000000</td>\n",
       "      <td>0.0</td>\n",
       "      <td>1.000000</td>\n",
       "      <td>1.000000</td>\n",
       "      <td>1.000000</td>\n",
       "      <td>3.000000</td>\n",
       "      <td>22.000000</td>\n",
       "      <td>22.000000</td>\n",
       "      <td>1.000000</td>\n",
       "      <td>1.000000</td>\n",
       "      <td>1.000000</td>\n",
       "      <td>1.000000</td>\n",
       "      <td>1.000000</td>\n",
       "      <td>1.000000</td>\n",
       "      <td>1.000000</td>\n",
       "    </tr>\n",
       "  </tbody>\n",
       "</table>\n",
       "</div>"
      ],
      "text/plain": [
       "       STDs:pelvic inflammatory disease  STDs:genital herpes  \\\n",
       "count                        772.000000           772.000000   \n",
       "mean                           0.001475             0.001475   \n",
       "std                            0.035988             0.035988   \n",
       "min                            0.000000             0.000000   \n",
       "25%                            0.000000             0.000000   \n",
       "50%                            0.000000             0.000000   \n",
       "75%                            0.000000             0.000000   \n",
       "max                            1.000000             1.000000   \n",
       "\n",
       "       STDs:molluscum contagiosum  STDs:AIDS    STDs:HIV  STDs:Hepatitis B  \\\n",
       "count                  772.000000      772.0  772.000000        772.000000   \n",
       "mean                     0.001475        0.0    0.023599          0.001475   \n",
       "std                      0.035988        0.0    0.142347          0.035988   \n",
       "min                      0.000000        0.0    0.000000          0.000000   \n",
       "25%                      0.000000        0.0    0.000000          0.000000   \n",
       "50%                      0.000000        0.0    0.000000          0.000000   \n",
       "75%                      0.000000        0.0    0.000000          0.000000   \n",
       "max                      1.000000        0.0    1.000000          1.000000   \n",
       "\n",
       "         STDs:HPV  STDs: Number of diagnosis  \\\n",
       "count  772.000000                 772.000000   \n",
       "mean     0.002950                   0.090674   \n",
       "std      0.050856                   0.309078   \n",
       "min      0.000000                   0.000000   \n",
       "25%      0.000000                   0.000000   \n",
       "50%      0.000000                   0.000000   \n",
       "75%      0.000000                   0.000000   \n",
       "max      1.000000                   3.000000   \n",
       "\n",
       "       STDs: Time since first diagnosis  STDs: Time since last diagnosis  \\\n",
       "count                        772.000000                       772.000000   \n",
       "mean                           6.151515                         5.803030   \n",
       "std                            1.757875                         1.715285   \n",
       "min                            1.000000                         1.000000   \n",
       "25%                            6.151515                         5.803030   \n",
       "50%                            6.151515                         5.803030   \n",
       "75%                            6.151515                         5.803030   \n",
       "max                           22.000000                        22.000000   \n",
       "\n",
       "        Dx:Cancer      Dx:CIN      Dx:HPV          Dx  Hinselmann    Schiller  \\\n",
       "count  772.000000  772.000000  772.000000  772.000000  772.000000  772.000000   \n",
       "mean     0.022021    0.010363    0.022021    0.028497    0.042746    0.088083   \n",
       "std      0.146846    0.101334    0.146846    0.166497    0.202415    0.283599   \n",
       "min      0.000000    0.000000    0.000000    0.000000    0.000000    0.000000   \n",
       "25%      0.000000    0.000000    0.000000    0.000000    0.000000    0.000000   \n",
       "50%      0.000000    0.000000    0.000000    0.000000    0.000000    0.000000   \n",
       "75%      0.000000    0.000000    0.000000    0.000000    0.000000    0.000000   \n",
       "max      1.000000    1.000000    1.000000    1.000000    1.000000    1.000000   \n",
       "\n",
       "         Citology  \n",
       "count  772.000000  \n",
       "mean     0.046632  \n",
       "std      0.210986  \n",
       "min      0.000000  \n",
       "25%      0.000000  \n",
       "50%      0.000000  \n",
       "75%      0.000000  \n",
       "max      1.000000  "
      ]
     },
     "execution_count": 245,
     "metadata": {},
     "output_type": "execute_result"
    }
   ],
   "source": [
    "X_train_imputed.iloc[:,18:].describe(include = 'all')"
   ]
  },
  {
   "attachments": {},
   "cell_type": "markdown",
   "metadata": {},
   "source": [
    "The identified columns with outliers are:\n",
    "- Column[1]: Number of Sexual Partners\n",
    "- Column[3]: Num of pregnancies\n",
    "- Column[5]: Smokes (years)\n",
    "- Column[6]: Smokes (packs/year)\n",
    "- Column[8]: Hormonal Contraceptives (years)\n",
    "- Column[10]: IUD (years)\n",
    "- Column[26]: STDs: Time since first diagnosis\n",
    "- Column[27]: STDs: Time since last diagnosis"
   ]
  },
  {
   "cell_type": "code",
   "execution_count": 246,
   "metadata": {},
   "outputs": [
    {
     "data": {
      "text/plain": [
       "{'whiskers': [<matplotlib.lines.Line2D at 0x25725579df0>,\n",
       "  <matplotlib.lines.Line2D at 0x25725591100>],\n",
       " 'caps': [<matplotlib.lines.Line2D at 0x257255913d0>,\n",
       "  <matplotlib.lines.Line2D at 0x257255916a0>],\n",
       " 'boxes': [<matplotlib.lines.Line2D at 0x25725579b20>],\n",
       " 'medians': [<matplotlib.lines.Line2D at 0x25725591970>],\n",
       " 'fliers': [<matplotlib.lines.Line2D at 0x25725591c40>],\n",
       " 'means': []}"
      ]
     },
     "execution_count": 246,
     "metadata": {},
     "output_type": "execute_result"
    },
    {
     "data": {
      "text/plain": [
       "Text(0.5, 1.0, 'Box Plot of Number of sexual partners')"
      ]
     },
     "execution_count": 246,
     "metadata": {},
     "output_type": "execute_result"
    },
    {
     "data": {
      "image/png": "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",
      "text/plain": [
       "<Figure size 432x288 with 1 Axes>"
      ]
     },
     "metadata": {
      "needs_background": "light"
     },
     "output_type": "display_data"
    },
    {
     "data": {
      "text/plain": [
       "(array([640., 118.,  11.,   1.,   0.,   1.,   0.,   0.,   0.,   1.]),\n",
       " array([ 1. ,  3.7,  6.4,  9.1, 11.8, 14.5, 17.2, 19.9, 22.6, 25.3, 28. ]),\n",
       " <BarContainer object of 10 artists>)"
      ]
     },
     "execution_count": 246,
     "metadata": {},
     "output_type": "execute_result"
    },
    {
     "data": {
      "text/plain": [
       "Text(0.5, 1.0, 'Histogram of Number of sexual partners')"
      ]
     },
     "execution_count": 246,
     "metadata": {},
     "output_type": "execute_result"
    },
    {
     "data": {
      "image/png": "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",
      "text/plain": [
       "<Figure size 432x288 with 1 Axes>"
      ]
     },
     "metadata": {
      "needs_background": "light"
     },
     "output_type": "display_data"
    },
    {
     "data": {
      "text/plain": [
       "{'whiskers': [<matplotlib.lines.Line2D at 0x25725742a00>,\n",
       "  <matplotlib.lines.Line2D at 0x25725742bb0>],\n",
       " 'caps': [<matplotlib.lines.Line2D at 0x25725742e80>,\n",
       "  <matplotlib.lines.Line2D at 0x25725747190>],\n",
       " 'boxes': [<matplotlib.lines.Line2D at 0x25725742730>],\n",
       " 'medians': [<matplotlib.lines.Line2D at 0x25725747460>],\n",
       " 'fliers': [<matplotlib.lines.Line2D at 0x25725747730>],\n",
       " 'means': []}"
      ]
     },
     "execution_count": 246,
     "metadata": {},
     "output_type": "execute_result"
    },
    {
     "data": {
      "text/plain": [
       "Text(0.5, 1.0, 'Box Plot of Num of pregnancies')"
      ]
     },
     "execution_count": 246,
     "metadata": {},
     "output_type": "execute_result"
    },
    {
     "data": {
      "image/png": "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",
      "text/plain": [
       "<Figure size 432x288 with 1 Axes>"
      ]
     },
     "metadata": {
      "needs_background": "light"
     },
     "output_type": "display_data"
    },
    {
     "data": {
      "text/plain": [
       "(array([ 14., 251., 261., 126.,  66.,  30.,  17.,   4.,   2.,   1.]),\n",
       " array([ 0.,  1.,  2.,  3.,  4.,  5.,  6.,  7.,  8.,  9., 10.]),\n",
       " <BarContainer object of 10 artists>)"
      ]
     },
     "execution_count": 246,
     "metadata": {},
     "output_type": "execute_result"
    },
    {
     "data": {
      "text/plain": [
       "Text(0.5, 1.0, 'Histogram of Num of pregnancies')"
      ]
     },
     "execution_count": 246,
     "metadata": {},
     "output_type": "execute_result"
    },
    {
     "data": {
      "image/png": "iVBORw0KGgoAAAANSUhEUgAAAXcAAAEICAYAAACktLTqAAAAOXRFWHRTb2Z0d2FyZQBNYXRwbG90bGliIHZlcnNpb24zLjUuMSwgaHR0cHM6Ly9tYXRwbG90bGliLm9yZy/YYfK9AAAACXBIWXMAAAsTAAALEwEAmpwYAAAVcUlEQVR4nO3dfbRddX3n8fcHgiiiVUqgSKKhGq0wM2JNKYqdRYstKGqwq0zjjBpHpjgVO9KlU4N1RlyVWbRLbZ011Sk+VFosGFErVVcrZXRYTutDQFoJgZpKICGRxAcEdHwgfOePve+4vdyb+3hycn95v9Y66+z920/fffa5n7PP7+xzbqoKSVJbDhl3AZKkxWe4S1KDDHdJapDhLkkNMtwlqUGGuyQ1yHBfgpJsTnL6uOsYpyQvSrI9yf1Jnj7ueuYiySOS/FWSbyf50LjrGQefw6NnuB9gkmxL8pxJbS9P8tmJ8ao6qao+M8N6ViWpJMtGVOq4vRV4dVUdWVVfmjyx3/cvJzlk0PaWJO/fn0VO49eAY4GfrKpzx13MOMzmOayFMdw1LwfAi8YTgM0zzPM4YN1+qGWungD8U1U9sNAVHQDHQQcow30JGp7dJzklyaYk9ya5O8nb+9mu7+/v6bsunpnkkCRvTHJHkt1J/izJTwzW+7J+2jeS/JdJ27k4ydVJrkhyL/Dyftt/n+SeJLuS/I8kDxusr5K8KslXktyX5PeSPLFf5t4kG4fzT9rHKWtNcniS+4FDgX9I8s/7eKj+AHjzVAGY5PQkO/bxuF6c5EP9/t7Xvwt4cpKL+nq2J/mVfRyjpyb5TP/YbE7ywr79zcB/BX69Py7nTbHsxGP9wX7bNyZ52qQ6X5/kH4HvJFmW5NQkf9dv7x+GXR5JTkhyfb+uv03yx0mu6KdNvMNbn+TOJF9P8ruDZWdzjP9jf4y/1a87g+m/kWRLv+1bkvzsFI/1IUk2JPnn/rm3MclR/bSH98fgG30NX0xy7HSPuwaqytsBdAO2Ac+Z1PZy4LNTzQP8PfDSfvhI4NR+eBVQwLLBcq8AtgI/3c/7EeDP+2knAvcDzwYeRtft8cPBdi7ux8+hOyl4BPAM4FRgWb+9LcCFg+0VcA3waOAk4PvAdf32fwK4BVg/zeMwba2DdT9pH49jAauBG4D/0Le9BXh/P3w6sGO6x77f3+8BZ/b792fA7cDvAocBvwHcPs22D+trf0P/WP4ScB/wlMG6r9hH7ROP9a/163pdv+3DBnXeBKzsj8PxwDeA5/XH5pf78eWD58hb+1qeDdw7sf3B8+Td/bqe1h+np/bTZ3OMPw48Bng8sAc4q592LnAX8HNAgCcBT5jisb4Q+BywAjgc+BPgyn7aK4G/Ao6ge0F/BvDocf+dLoXb2AvwNumAdE/6+4F7BrfvMn24Xw+8GTh60nom/miH4X4d8KrB+FP6EFlGdzZ55WDaEcAP+PGwu36G2i8EPjoYL+C0wfgNwOsH428D/miadU1b62DdM4X7k+gC784+NOYa7tcOpr2gPy6H9uOP6rfxmCm2/QvA14BDBm1XAhcP1j1TuH9uMH4IsAv4hUGdrxhMfz2DF76+7W+A9XSB+wBwxGDaFTw03FcMpn8BWDeHY/zswfhGYMOghtfs43k+8VhvAc4YTDtu8Lx8BfB3wL8a99/mUrvZLXNgOqeqHjNxA161j3nPA54M3Nq/ZX3+PuZ9HHDHYPwOuj+gY/tp2ycmVNV36c7+hrYPR/puio8n+VrfVfPfgKMnLXP3YPj/TjF+5DxqnbWq+iRduJ8/l+V6k2v9elXtHYzD1PU/DtheVQ8O2u6gO8OereGxeBDY0a/3IdPp+vDP7bst7klyD90Z+nH9Mt/sj+dUy0742mD4u/T7NctjPOWydO8s9tVtNqz/o4PatwB76Y71n9O9SFyVZGeSP0hy2CzWedAz3Je4qvpKVb0YOAb4feDqJI+kO6OabCfdH9KEibO6u+nODFdMTEjyCOAnJ29u0vi7gFuB1VX1aLpuiLA49lXrXL2RrjvliEHbd4bjSQ4Fls9j3VPZCazM4EoduvrvmsM6Vg5qO4Tu2OwcTB8ei+10Z+6PGdweWVWX0h3Xo5IM930ls7eQY7wdeOIs53vupPofXlV3VdUPq+rNVXUi8Czg+cDL5lD/QctwX+KSvCTJ8v7s7p6+eS9d3+eDdH3WE64Efrv/gO1IurOwD1Z31cbVwAuSPKv/wOzNzPxH/Ci6/tv7k/wM8JuLtV8z1Don1V1y92W6booJ/wQ8PMnZ/ZngG+m6bhbD5+lePH4nyWH9h5svAK6awzqekeRX+w+DL6TrB//cNPNeQXfszkxyaP8h5OlJVlTVHcAm4OIkD0vyzL6W2VrIMX4P8Lokz0jnSUmeMMV8/xO4ZGJakuVJ1vbDv5jkX/YvvvfSddfsnWIdmsRwX/rOAjanu4LkHXR9pd/r34ZfAvyf/u3uqcD76N7mXk/3Ad33gN8CqKrN/fBVdGd79wG76UJlOq8D/m0/77uBDy7ifk1b6zy9EThqYqSqvk3X3fUeujPq79B1fSxYVf0AeCHwXODrwDuBl1XVrXNYzceAXwe+BbwU+NWq+uE029sOrKU7q95Ddyb8n/nR3/e/A55J1832FrrjtK/jOjTvY1xVH6J7Dv5Fv/xfMjgGA++g++D9U0nuo3sR+/l+2k/RnXjcS9dd87/pXsw0g/QfYEg/pj9bvofu7fjtYy7noJLkYroPi18yovV/ELi1qt40ivXrwOCZu/6/JC9IckTfZ/9Wuq6MbeOtSguV5OfSfb/gkCRn0Z3l/+WYy9KIGe4aWkv3od1OumvE15Vv7VrwU8Bn6C7l/O/Ab9YUP9mgttgtI0kN8sxdkhp0QPzo0NFHH12rVq0adxmStKTccMMNX6+qKb+fcUCE+6pVq9i0adO4y5CkJSXJHdNNs1tGkhpkuEtSgwx3SWqQ4S5JDTLcJalBhrskNchwl6QGGe6S1CDDXZIadEB8Q1Vzs2rDJ8a27W2Xnj22bUuaPc/cJalBhrskNchwl6QGGe6S1KAZwz3JyiSfTrIlyeYkr+nbL05yV5Kb+tvzBstclGRrktuSnDnKHZAkPdRsrpZ5AHhtVd2Y5FHADUmu7af9YVW9dThzkhOBdcBJwOOAv03y5Krau5iFS5KmN+OZe1Xtqqob++H7gC3A8ftYZC1wVVV9v6puB7YCpyxGsZKk2ZnTde5JVgFPBz4PnAa8OsnLgE10Z/ffogv+zw0W28EULwZJzgfOB3j84x8/n9rHbpzXm0vSvsz6A9UkRwIfBi6sqnuBdwFPBE4GdgFvm5h1isXrIQ1Vl1XVmqpas3z5lP8CUJI0T7MK9ySH0QX7B6rqIwBVdXdV7a2qB4F386Oulx3AysHiK4Cdi1eyJGkms7laJsB7gS1V9fZB+3GD2V4E3NwPXwOsS3J4khOA1cAXFq9kSdJMZtPnfhrwUuDLSW7q294AvDjJyXRdLtuAVwJU1eYkG4Fb6K60ucArZSRp/5ox3Kvqs0zdj/7JfSxzCXDJAuqSJC2A31CVpAYZ7pLUIMNdkhpkuEtSgwx3SWqQ4S5JDTLcJalBhrskNchwl6QGGe6S1CDDXZIaZLhLUoMMd0lqkOEuSQ0y3CWpQYa7JDXIcJekBhnuktQgw12SGmS4S1KDDHdJapDhLkkNMtwlqUGGuyQ1yHCXpAYZ7pLUIMNdkhpkuEtSgwx3SWqQ4S5JDTLcJalBM4Z7kpVJPp1kS5LNSV7Ttx+V5NokX+nvHztY5qIkW5PcluTMUe6AJOmhZnPm/gDw2qp6KnAqcEGSE4ENwHVVtRq4rh+nn7YOOAk4C3hnkkNHUbwkaWozhntV7aqqG/vh+4AtwPHAWuDyfrbLgXP64bXAVVX1/aq6HdgKnLLIdUuS9mFOfe5JVgFPBz4PHFtVu6B7AQCO6Wc7Htg+WGxH3zZ5Xecn2ZRk0549e+ZRuiRpOrMO9yRHAh8GLqyqe/c16xRt9ZCGqsuqak1VrVm+fPlsy5AkzcKswj3JYXTB/oGq+kjffHeS4/rpxwG7+/YdwMrB4iuAnYtTriRpNmZztUyA9wJbqurtg0nXAOv74fXAxwbt65IcnuQEYDXwhcUrWZI0k2WzmOc04KXAl5Pc1Le9AbgU2JjkPOBO4FyAqtqcZCNwC92VNhdU1d7FLlySNL0Zw72qPsvU/egAZ0yzzCXAJQuoS5K0AH5DVZIaZLhLUoMMd0lqkOEuSQ0y3CWpQYa7JDXIcJekBhnuktQgw12SGmS4S1KDDHdJapDhLkkNMtwlqUGGuyQ1yHCXpAYZ7pLUIMNdkhpkuEtSgwx3SWqQ4S5JDTLcJalBhrskNchwl6QGGe6S1CDDXZIaZLhLUoMMd0lqkOEuSQ0y3CWpQYa7JDXIcJekBs0Y7knel2R3kpsHbRcnuSvJTf3teYNpFyXZmuS2JGeOqnBJ0vRmc+b+fuCsKdr/sKpO7m+fBEhyIrAOOKlf5p1JDl2sYiVJszNjuFfV9cA3Z7m+tcBVVfX9qrod2AqcsoD6JEnzsJA+91cn+ce+2+axfdvxwPbBPDv6todIcn6STUk27dmzZwFlSJImm2+4vwt4InAysAt4W9+eKeatqVZQVZdV1ZqqWrN8+fJ5liFJmsq8wr2q7q6qvVX1IPBuftT1sgNYOZh1BbBzYSVKkuZqXuGe5LjB6IuAiStprgHWJTk8yQnAauALCytRkjRXy2aaIcmVwOnA0Ul2AG8CTk9yMl2XyzbglQBVtTnJRuAW4AHggqraO5LKJUnTmjHcq+rFUzS/dx/zXwJcspCiJEkL4zdUJalBhrskNchwl6QGGe6S1CDDXZIaZLhLUoMMd0lqkOEuSQ0y3CWpQYa7JDXIcJekBhnuktQgw12SGjTjr0JKQ6s2fGIs29126dlj2a60VHnmLkkNMtwlqUGGuyQ1yHCXpAYZ7pLUIMNdkhpkuEtSgwx3SWqQ4S5JDTLcJalBhrskNchwl6QGGe6S1CDDXZIaZLhLUoMMd0lq0IzhnuR9SXYnuXnQdlSSa5N8pb9/7GDaRUm2JrktyZmjKlySNL3ZnLm/HzhrUtsG4LqqWg1c14+T5ERgHXBSv8w7kxy6aNVKkmZlxnCvquuBb05qXgtc3g9fDpwzaL+qqr5fVbcDW4FTFqdUSdJszbfP/diq2gXQ3x/Ttx8PbB/Mt6Nve4gk5yfZlGTTnj175lmGJGkqi/2BaqZoq6lmrKrLqmpNVa1Zvnz5IpchSQe3+Yb73UmOA+jvd/ftO4CVg/lWADvnX54kaT7mG+7XAOv74fXAxwbt65IcnuQEYDXwhYWVKEmaq2UzzZDkSuB04OgkO4A3AZcCG5OcB9wJnAtQVZuTbARuAR4ALqiqvSOqXZI0jRnDvapePM2kM6aZ/xLgkoUUJUlaGL+hKkkNMtwlqUGGuyQ1yHCXpAYZ7pLUIMNdkhpkuEtSgwx3SWqQ4S5JDTLcJalBhrskNchwl6QGGe6S1CDDXZIaZLhLUoMMd0lqkOEuSQ0y3CWpQYa7JDXIcJekBhnuktSgZeMuQJqNVRs+MbZtb7v07LFtW5ovz9wlqUGGuyQ1yHCXpAYZ7pLUIMNdkhpkuEtSgwx3SWqQ4S5JDTLcJalBC/qGapJtwH3AXuCBqlqT5Cjgg8AqYBvwb6rqWwsrU5I0F4tx5v6LVXVyVa3pxzcA11XVauC6flyStB+NoltmLXB5P3w5cM4ItiFJ2oeFhnsBn0pyQ5Lz+7Zjq2oXQH9/zFQLJjk/yaYkm/bs2bPAMiRJQwv9VcjTqmpnkmOAa5PcOtsFq+oy4DKANWvW1ALrkCQNLOjMvap29ve7gY8CpwB3JzkOoL/fvdAiJUlzM+9wT/LIJI+aGAZ+BbgZuAZY38+2HvjYQouUJM3NQrpljgU+mmRiPX9RVX+d5IvAxiTnAXcC5y68TEnSXMw73Kvqq8DTpmj/BnDGQoqSJC2M31CVpAYZ7pLUIMNdkhpkuEtSgwx3SWqQ4S5JDTLcJalBhrskNchwl6QGGe6S1KCF/uSv1LxVGz4xlu1uu/TssWxXbfDMXZIaZLhLUoMMd0lqkOEuSQ0y3CWpQYa7JDXIcJekBhnuktQgw12SGuQ3VKUD1Li+GQt+O7YFnrlLUoMMd0lqUBPdMuN8+ypJByLP3CWpQYa7JDXIcJekBhnuktQgw12SGmS4S1KDDHdJatDIrnNPchbwDuBQ4D1VdemotiVpcflPwZe+kYR7kkOBPwZ+GdgBfDHJNVV1yyi2J6kNvqgsnlGduZ8CbK2qrwIkuQpYCxjukg44Lf5I26jC/Xhg+2B8B/DzwxmSnA+c34/en+S2BWzvaODrC1h+qTnY9hfc54PFQbfP+f0F7fMTppswqnDPFG31YyNVlwGXLcrGkk1VtWYx1rUUHGz7C+7zwcJ9XjyjulpmB7ByML4C2DmibUmSJhlVuH8RWJ3khCQPA9YB14xoW5KkSUbSLVNVDyR5NfA3dJdCvq+qNo9iW71F6d5ZQg62/QX3+WDhPi+SVNXMc0mSlhS/oSpJDTLcJalBSzrck5yV5LYkW5NsGHc9o5ZkZZJPJ9mSZHOS14y7pv0lyaFJvpTk4+OuZX9I8pgkVye5tT/ezxx3TaOU5Lf75/TNSa5M8vBx1zQKSd6XZHeSmwdtRyW5NslX+vvHLsa2lmy4D37i4LnAicCLk5w43qpG7gHgtVX1VOBU4IKDYJ8nvAbYMu4i9qN3AH9dVT8DPI2G9z3J8cB/AtZU1b+guwhj3XirGpn3A2dNatsAXFdVq4Hr+vEFW7LhzuAnDqrqB8DETxw0q6p2VdWN/fB9dH/wx4+3qtFLsgI4G3jPuGvZH5I8GvjXwHsBquoHVXXPWIsavWXAI5IsA46g0e/FVNX1wDcnNa8FLu+HLwfOWYxtLeVwn+onDpoPuglJVgFPBz4/5lL2hz8Cfgd4cMx17C8/DewB/rTvinpPkkeOu6hRqaq7gLcCdwK7gG9X1afGW9V+dWxV7YLuBA44ZjFWupTDfcafOGhVkiOBDwMXVtW9465nlJI8H9hdVTeMu5b9aBnws8C7qurpwHdYpLfqB6K+j3ktcALwOOCRSV4y3qqWvqUc7gflTxwkOYwu2D9QVR8Zdz37wWnAC5Nso+t6+6UkV4y3pJHbAeyoqol3ZVfThX2rngPcXlV7quqHwEeAZ425pv3p7iTHAfT3uxdjpUs53A+6nzhIErp+2C1V9fZx17M/VNVFVbWiqlbRHeP/VVVNn9VV1deA7Ume0jedQds/l30ncGqSI/rn+Bk0/AHyFK4B1vfD64GPLcZKR/afmEZtDD9xcCA4DXgp8OUkN/Vtb6iqT46vJI3IbwEf6E9cvgr8+zHXMzJV9fkkVwM30l0R9iUa/RmCJFcCpwNHJ9kBvAm4FNiY5Dy6F7pzF2Vb/vyAJLVnKXfLSJKmYbhLUoMMd0lqkOEuSQ0y3CWpQYa7JDXIcJekBv0/WjOB7FwOKZ8AAAAASUVORK5CYII=",
      "text/plain": [
       "<Figure size 432x288 with 1 Axes>"
      ]
     },
     "metadata": {
      "needs_background": "light"
     },
     "output_type": "display_data"
    },
    {
     "data": {
      "text/plain": [
       "{'whiskers': [<matplotlib.lines.Line2D at 0x257256d31c0>,\n",
       "  <matplotlib.lines.Line2D at 0x257256d3370>],\n",
       " 'caps': [<matplotlib.lines.Line2D at 0x257256d3640>,\n",
       "  <matplotlib.lines.Line2D at 0x257256d3910>],\n",
       " 'boxes': [<matplotlib.lines.Line2D at 0x257256b5eb0>],\n",
       " 'medians': [<matplotlib.lines.Line2D at 0x257256d3be0>],\n",
       " 'fliers': [<matplotlib.lines.Line2D at 0x257256d3eb0>],\n",
       " 'means': []}"
      ]
     },
     "execution_count": 246,
     "metadata": {},
     "output_type": "execute_result"
    },
    {
     "data": {
      "text/plain": [
       "Text(0.5, 1.0, 'Box Plot of Smokes (years)')"
      ]
     },
     "execution_count": 246,
     "metadata": {},
     "output_type": "execute_result"
    },
    {
     "data": {
      "image/png": "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",
      "text/plain": [
       "<Figure size 432x288 with 1 Axes>"
      ]
     },
     "metadata": {
      "needs_background": "light"
     },
     "output_type": "display_data"
    },
    {
     "data": {
      "text/plain": [
       "(array([695.,  22.,  24.,  10.,  11.,   7.,   0.,   0.,   1.,   2.]),\n",
       " array([ 0. ,  3.7,  7.4, 11.1, 14.8, 18.5, 22.2, 25.9, 29.6, 33.3, 37. ]),\n",
       " <BarContainer object of 10 artists>)"
      ]
     },
     "execution_count": 246,
     "metadata": {},
     "output_type": "execute_result"
    },
    {
     "data": {
      "text/plain": [
       "Text(0.5, 1.0, 'Histogram of Smokes (years)')"
      ]
     },
     "execution_count": 246,
     "metadata": {},
     "output_type": "execute_result"
    },
    {
     "data": {
      "image/png": "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",
      "text/plain": [
       "<Figure size 432x288 with 1 Axes>"
      ]
     },
     "metadata": {
      "needs_background": "light"
     },
     "output_type": "display_data"
    },
    {
     "data": {
      "text/plain": [
       "{'whiskers': [<matplotlib.lines.Line2D at 0x25725897c70>,\n",
       "  <matplotlib.lines.Line2D at 0x257269c2490>],\n",
       " 'caps': [<matplotlib.lines.Line2D at 0x257269c2700>,\n",
       "  <matplotlib.lines.Line2D at 0x257269c29d0>],\n",
       " 'boxes': [<matplotlib.lines.Line2D at 0x257269b5fd0>],\n",
       " 'medians': [<matplotlib.lines.Line2D at 0x257269c2ca0>],\n",
       " 'fliers': [<matplotlib.lines.Line2D at 0x257269c2f70>],\n",
       " 'means': []}"
      ]
     },
     "execution_count": 246,
     "metadata": {},
     "output_type": "execute_result"
    },
    {
     "data": {
      "text/plain": [
       "Text(0.5, 1.0, 'Box Plot of Smokes (packs/year)')"
      ]
     },
     "execution_count": 246,
     "metadata": {},
     "output_type": "execute_result"
    },
    {
     "data": {
      "image/png": "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",
      "text/plain": [
       "<Figure size 432x288 with 1 Axes>"
      ]
     },
     "metadata": {
      "needs_background": "light"
     },
     "output_type": "display_data"
    },
    {
     "data": {
      "text/plain": [
       "(array([746.,  12.,   6.,   3.,   1.,   3.,   0.,   0.,   0.,   1.]),\n",
       " array([ 0. ,  3.7,  7.4, 11.1, 14.8, 18.5, 22.2, 25.9, 29.6, 33.3, 37. ]),\n",
       " <BarContainer object of 10 artists>)"
      ]
     },
     "execution_count": 246,
     "metadata": {},
     "output_type": "execute_result"
    },
    {
     "data": {
      "text/plain": [
       "Text(0.5, 1.0, 'Histogram of Smokes (packs/year)')"
      ]
     },
     "execution_count": 246,
     "metadata": {},
     "output_type": "execute_result"
    },
    {
     "data": {
      "image/png": "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",
      "text/plain": [
       "<Figure size 432x288 with 1 Axes>"
      ]
     },
     "metadata": {
      "needs_background": "light"
     },
     "output_type": "display_data"
    },
    {
     "data": {
      "text/plain": [
       "{'whiskers': [<matplotlib.lines.Line2D at 0x2572583e190>,\n",
       "  <matplotlib.lines.Line2D at 0x25725876490>],\n",
       " 'caps': [<matplotlib.lines.Line2D at 0x257258768e0>,\n",
       "  <matplotlib.lines.Line2D at 0x25725876370>],\n",
       " 'boxes': [<matplotlib.lines.Line2D at 0x2572583ebb0>],\n",
       " 'medians': [<matplotlib.lines.Line2D at 0x257258b1730>],\n",
       " 'fliers': [<matplotlib.lines.Line2D at 0x257258b14f0>],\n",
       " 'means': []}"
      ]
     },
     "execution_count": 246,
     "metadata": {},
     "output_type": "execute_result"
    },
    {
     "data": {
      "text/plain": [
       "Text(0.5, 1.0, 'Box Plot of Hormonal Contraceptives (years)')"
      ]
     },
     "execution_count": 246,
     "metadata": {},
     "output_type": "execute_result"
    },
    {
     "data": {
      "image/png": "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",
      "text/plain": [
       "<Figure size 432x288 with 1 Axes>"
      ]
     },
     "metadata": {
      "needs_background": "light"
     },
     "output_type": "display_data"
    },
    {
     "data": {
      "text/plain": [
       "(array([482., 152.,  55.,  38.,  21.,   8.,   7.,   3.,   1.,   5.]),\n",
       " array([ 0. ,  2.2,  4.4,  6.6,  8.8, 11. , 13.2, 15.4, 17.6, 19.8, 22. ]),\n",
       " <BarContainer object of 10 artists>)"
      ]
     },
     "execution_count": 246,
     "metadata": {},
     "output_type": "execute_result"
    },
    {
     "data": {
      "text/plain": [
       "Text(0.5, 1.0, 'Histogram of Hormonal Contraceptives (years)')"
      ]
     },
     "execution_count": 246,
     "metadata": {},
     "output_type": "execute_result"
    },
    {
     "data": {
      "image/png": "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",
      "text/plain": [
       "<Figure size 432x288 with 1 Axes>"
      ]
     },
     "metadata": {
      "needs_background": "light"
     },
     "output_type": "display_data"
    },
    {
     "data": {
      "text/plain": [
       "{'whiskers': [<matplotlib.lines.Line2D at 0x25725235490>,\n",
       "  <matplotlib.lines.Line2D at 0x25723070430>],\n",
       " 'caps': [<matplotlib.lines.Line2D at 0x25723070e80>,\n",
       "  <matplotlib.lines.Line2D at 0x25723070a60>],\n",
       " 'boxes': [<matplotlib.lines.Line2D at 0x25723070040>],\n",
       " 'medians': [<matplotlib.lines.Line2D at 0x257230701f0>],\n",
       " 'fliers': [<matplotlib.lines.Line2D at 0x2572525dbe0>],\n",
       " 'means': []}"
      ]
     },
     "execution_count": 246,
     "metadata": {},
     "output_type": "execute_result"
    },
    {
     "data": {
      "text/plain": [
       "Text(0.5, 1.0, 'Box Plot of IUD (years)')"
      ]
     },
     "execution_count": 246,
     "metadata": {},
     "output_type": "execute_result"
    },
    {
     "data": {
      "image/png": "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",
      "text/plain": [
       "<Figure size 432x288 with 1 Axes>"
      ]
     },
     "metadata": {
      "needs_background": "light"
     },
     "output_type": "display_data"
    },
    {
     "data": {
      "text/plain": [
       "(array([719.,  18.,  11.,  10.,   6.,   4.,   1.,   1.,   1.,   1.]),\n",
       " array([ 0. ,  1.9,  3.8,  5.7,  7.6,  9.5, 11.4, 13.3, 15.2, 17.1, 19. ]),\n",
       " <BarContainer object of 10 artists>)"
      ]
     },
     "execution_count": 246,
     "metadata": {},
     "output_type": "execute_result"
    },
    {
     "data": {
      "text/plain": [
       "Text(0.5, 1.0, 'Histogram of IUD (years)')"
      ]
     },
     "execution_count": 246,
     "metadata": {},
     "output_type": "execute_result"
    },
    {
     "data": {
      "image/png": "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",
      "text/plain": [
       "<Figure size 432x288 with 1 Axes>"
      ]
     },
     "metadata": {
      "needs_background": "light"
     },
     "output_type": "display_data"
    },
    {
     "data": {
      "text/plain": [
       "{'whiskers': [<matplotlib.lines.Line2D at 0x25725440d60>,\n",
       "  <matplotlib.lines.Line2D at 0x25725440070>],\n",
       " 'caps': [<matplotlib.lines.Line2D at 0x257254407c0>,\n",
       "  <matplotlib.lines.Line2D at 0x25725440c70>],\n",
       " 'boxes': [<matplotlib.lines.Line2D at 0x25725440790>],\n",
       " 'medians': [<matplotlib.lines.Line2D at 0x257253ee580>],\n",
       " 'fliers': [<matplotlib.lines.Line2D at 0x257253ee8b0>],\n",
       " 'means': []}"
      ]
     },
     "execution_count": 246,
     "metadata": {},
     "output_type": "execute_result"
    },
    {
     "data": {
      "text/plain": [
       "Text(0.5, 1.0, 'Box Plot of STDs: Time since first diagnosis')"
      ]
     },
     "execution_count": 246,
     "metadata": {},
     "output_type": "execute_result"
    },
    {
     "data": {
      "image/png": "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",
      "text/plain": [
       "<Figure size 432x288 with 1 Axes>"
      ]
     },
     "metadata": {
      "needs_background": "light"
     },
     "output_type": "display_data"
    },
    {
     "data": {
      "text/plain": [
       "(array([ 33.,   8., 714.,   3.,   2.,   1.,   1.,   4.,   3.,   3.]),\n",
       " array([ 1. ,  3.1,  5.2,  7.3,  9.4, 11.5, 13.6, 15.7, 17.8, 19.9, 22. ]),\n",
       " <BarContainer object of 10 artists>)"
      ]
     },
     "execution_count": 246,
     "metadata": {},
     "output_type": "execute_result"
    },
    {
     "data": {
      "text/plain": [
       "Text(0.5, 1.0, 'Histogram of STDs: Time since first diagnosis')"
      ]
     },
     "execution_count": 246,
     "metadata": {},
     "output_type": "execute_result"
    },
    {
     "data": {
      "image/png": "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",
      "text/plain": [
       "<Figure size 432x288 with 1 Axes>"
      ]
     },
     "metadata": {
      "needs_background": "light"
     },
     "output_type": "display_data"
    },
    {
     "data": {
      "text/plain": [
       "{'whiskers': [<matplotlib.lines.Line2D at 0x25725294f10>,\n",
       "  <matplotlib.lines.Line2D at 0x25725294d90>],\n",
       " 'caps': [<matplotlib.lines.Line2D at 0x25725294880>,\n",
       "  <matplotlib.lines.Line2D at 0x25722e45760>],\n",
       " 'boxes': [<matplotlib.lines.Line2D at 0x257252944f0>],\n",
       " 'medians': [<matplotlib.lines.Line2D at 0x25722e45550>],\n",
       " 'fliers': [<matplotlib.lines.Line2D at 0x25722e456a0>],\n",
       " 'means': []}"
      ]
     },
     "execution_count": 246,
     "metadata": {},
     "output_type": "execute_result"
    },
    {
     "data": {
      "text/plain": [
       "Text(0.5, 1.0, 'Box Plot of STDs: Time since last diagnosis')"
      ]
     },
     "execution_count": 246,
     "metadata": {},
     "output_type": "execute_result"
    },
    {
     "data": {
      "image/png": "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",
      "text/plain": [
       "<Figure size 432x288 with 1 Axes>"
      ]
     },
     "metadata": {
      "needs_background": "light"
     },
     "output_type": "display_data"
    },
    {
     "data": {
      "text/plain": [
       "(array([ 35.,   7., 714.,   3.,   2.,   1.,   1.,   4.,   2.,   3.]),\n",
       " array([ 1. ,  3.1,  5.2,  7.3,  9.4, 11.5, 13.6, 15.7, 17.8, 19.9, 22. ]),\n",
       " <BarContainer object of 10 artists>)"
      ]
     },
     "execution_count": 246,
     "metadata": {},
     "output_type": "execute_result"
    },
    {
     "data": {
      "text/plain": [
       "Text(0.5, 1.0, 'Histogram of STDs: Time since last diagnosis')"
      ]
     },
     "execution_count": 246,
     "metadata": {},
     "output_type": "execute_result"
    },
    {
     "data": {
      "image/png": "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",
      "text/plain": [
       "<Figure size 432x288 with 1 Axes>"
      ]
     },
     "metadata": {
      "needs_background": "light"
     },
     "output_type": "display_data"
    }
   ],
   "source": [
    "column = [1,3,5,6,8,10,26,27]  # Index of identified columns\n",
    "X_outlier = X_train_imputed.copy()\n",
    "\n",
    "for num in column:\n",
    "    # Boxplot \n",
    "    plt.boxplot(X_outlier.iloc[:,num:(num+1)])\n",
    "    plt.title('Box Plot of '+ df.columns[num])\n",
    "    plt.show()\n",
    "\n",
    "    # Histogram \n",
    "    plt.hist(X_outlier.iloc[:,num:(num+1)])\n",
    "    plt.title('Histogram of '+ df.columns[num])\n",
    "    plt.show()"
   ]
  },
  {
   "attachments": {},
   "cell_type": "markdown",
   "metadata": {},
   "source": [
    "From the data visualizations above, we can observe that all the graphs are skewed to the right. Therefore, we will be applying **Square Root transformation** to make the data more normally distributed and reduce the impact of outliers."
   ]
  },
  {
   "cell_type": "code",
   "execution_count": 247,
   "metadata": {},
   "outputs": [
    {
     "data": {
      "text/html": [
       "<div>\n",
       "<style scoped>\n",
       "    .dataframe tbody tr th:only-of-type {\n",
       "        vertical-align: middle;\n",
       "    }\n",
       "\n",
       "    .dataframe tbody tr th {\n",
       "        vertical-align: top;\n",
       "    }\n",
       "\n",
       "    .dataframe thead th {\n",
       "        text-align: right;\n",
       "    }\n",
       "</style>\n",
       "<table border=\"1\" class=\"dataframe\">\n",
       "  <thead>\n",
       "    <tr style=\"text-align: right;\">\n",
       "      <th></th>\n",
       "      <th>Age</th>\n",
       "      <th>Number of sexual partners</th>\n",
       "      <th>First sexual intercourse</th>\n",
       "      <th>Num of pregnancies</th>\n",
       "      <th>Smokes</th>\n",
       "      <th>Smokes (years)</th>\n",
       "      <th>Smokes (packs/year)</th>\n",
       "      <th>Hormonal Contraceptives</th>\n",
       "      <th>Hormonal Contraceptives (years)</th>\n",
       "      <th>IUD</th>\n",
       "      <th>...</th>\n",
       "      <th>STDs: Number of diagnosis</th>\n",
       "      <th>STDs: Time since first diagnosis</th>\n",
       "      <th>STDs: Time since last diagnosis</th>\n",
       "      <th>Dx:Cancer</th>\n",
       "      <th>Dx:CIN</th>\n",
       "      <th>Dx:HPV</th>\n",
       "      <th>Dx</th>\n",
       "      <th>Hinselmann</th>\n",
       "      <th>Schiller</th>\n",
       "      <th>Citology</th>\n",
       "    </tr>\n",
       "  </thead>\n",
       "  <tbody>\n",
       "    <tr>\n",
       "      <th>0</th>\n",
       "      <td>20.0</td>\n",
       "      <td>1.593805</td>\n",
       "      <td>16.0</td>\n",
       "      <td>1.000000</td>\n",
       "      <td>0.0</td>\n",
       "      <td>0.000000</td>\n",
       "      <td>0.0</td>\n",
       "      <td>0.000000</td>\n",
       "      <td>0.000000</td>\n",
       "      <td>0.000000</td>\n",
       "      <td>...</td>\n",
       "      <td>0.0</td>\n",
       "      <td>2.480225</td>\n",
       "      <td>2.408948</td>\n",
       "      <td>0.0</td>\n",
       "      <td>0.0</td>\n",
       "      <td>0.0</td>\n",
       "      <td>0.0</td>\n",
       "      <td>0.0</td>\n",
       "      <td>0.0</td>\n",
       "      <td>0.0</td>\n",
       "    </tr>\n",
       "    <tr>\n",
       "      <th>1</th>\n",
       "      <td>20.0</td>\n",
       "      <td>1.000000</td>\n",
       "      <td>18.0</td>\n",
       "      <td>1.000000</td>\n",
       "      <td>0.0</td>\n",
       "      <td>0.000000</td>\n",
       "      <td>0.0</td>\n",
       "      <td>0.000000</td>\n",
       "      <td>0.000000</td>\n",
       "      <td>0.000000</td>\n",
       "      <td>...</td>\n",
       "      <td>1.0</td>\n",
       "      <td>1.000000</td>\n",
       "      <td>1.000000</td>\n",
       "      <td>0.0</td>\n",
       "      <td>0.0</td>\n",
       "      <td>0.0</td>\n",
       "      <td>0.0</td>\n",
       "      <td>0.0</td>\n",
       "      <td>0.0</td>\n",
       "      <td>0.0</td>\n",
       "    </tr>\n",
       "    <tr>\n",
       "      <th>2</th>\n",
       "      <td>17.0</td>\n",
       "      <td>1.000000</td>\n",
       "      <td>16.0</td>\n",
       "      <td>1.000000</td>\n",
       "      <td>0.0</td>\n",
       "      <td>0.000000</td>\n",
       "      <td>0.0</td>\n",
       "      <td>0.642433</td>\n",
       "      <td>1.499536</td>\n",
       "      <td>0.106287</td>\n",
       "      <td>...</td>\n",
       "      <td>0.0</td>\n",
       "      <td>2.480225</td>\n",
       "      <td>2.408948</td>\n",
       "      <td>0.0</td>\n",
       "      <td>0.0</td>\n",
       "      <td>0.0</td>\n",
       "      <td>0.0</td>\n",
       "      <td>0.0</td>\n",
       "      <td>0.0</td>\n",
       "      <td>0.0</td>\n",
       "    </tr>\n",
       "    <tr>\n",
       "      <th>3</th>\n",
       "      <td>18.0</td>\n",
       "      <td>1.000000</td>\n",
       "      <td>17.0</td>\n",
       "      <td>1.000000</td>\n",
       "      <td>0.0</td>\n",
       "      <td>0.000000</td>\n",
       "      <td>0.0</td>\n",
       "      <td>0.000000</td>\n",
       "      <td>0.000000</td>\n",
       "      <td>0.000000</td>\n",
       "      <td>...</td>\n",
       "      <td>0.0</td>\n",
       "      <td>2.480225</td>\n",
       "      <td>2.408948</td>\n",
       "      <td>0.0</td>\n",
       "      <td>0.0</td>\n",
       "      <td>0.0</td>\n",
       "      <td>0.0</td>\n",
       "      <td>0.0</td>\n",
       "      <td>0.0</td>\n",
       "      <td>0.0</td>\n",
       "    </tr>\n",
       "    <tr>\n",
       "      <th>4</th>\n",
       "      <td>26.0</td>\n",
       "      <td>1.414214</td>\n",
       "      <td>17.0</td>\n",
       "      <td>1.498497</td>\n",
       "      <td>1.0</td>\n",
       "      <td>3.162278</td>\n",
       "      <td>1.0</td>\n",
       "      <td>1.000000</td>\n",
       "      <td>1.732051</td>\n",
       "      <td>0.000000</td>\n",
       "      <td>...</td>\n",
       "      <td>0.0</td>\n",
       "      <td>2.480225</td>\n",
       "      <td>2.408948</td>\n",
       "      <td>0.0</td>\n",
       "      <td>0.0</td>\n",
       "      <td>0.0</td>\n",
       "      <td>0.0</td>\n",
       "      <td>0.0</td>\n",
       "      <td>0.0</td>\n",
       "      <td>0.0</td>\n",
       "    </tr>\n",
       "    <tr>\n",
       "      <th>...</th>\n",
       "      <td>...</td>\n",
       "      <td>...</td>\n",
       "      <td>...</td>\n",
       "      <td>...</td>\n",
       "      <td>...</td>\n",
       "      <td>...</td>\n",
       "      <td>...</td>\n",
       "      <td>...</td>\n",
       "      <td>...</td>\n",
       "      <td>...</td>\n",
       "      <td>...</td>\n",
       "      <td>...</td>\n",
       "      <td>...</td>\n",
       "      <td>...</td>\n",
       "      <td>...</td>\n",
       "      <td>...</td>\n",
       "      <td>...</td>\n",
       "      <td>...</td>\n",
       "      <td>...</td>\n",
       "      <td>...</td>\n",
       "      <td>...</td>\n",
       "    </tr>\n",
       "    <tr>\n",
       "      <th>767</th>\n",
       "      <td>24.0</td>\n",
       "      <td>1.000000</td>\n",
       "      <td>14.0</td>\n",
       "      <td>0.000000</td>\n",
       "      <td>0.0</td>\n",
       "      <td>0.000000</td>\n",
       "      <td>0.0</td>\n",
       "      <td>0.000000</td>\n",
       "      <td>0.000000</td>\n",
       "      <td>0.000000</td>\n",
       "      <td>...</td>\n",
       "      <td>0.0</td>\n",
       "      <td>2.480225</td>\n",
       "      <td>2.408948</td>\n",
       "      <td>0.0</td>\n",
       "      <td>0.0</td>\n",
       "      <td>0.0</td>\n",
       "      <td>0.0</td>\n",
       "      <td>0.0</td>\n",
       "      <td>0.0</td>\n",
       "      <td>0.0</td>\n",
       "    </tr>\n",
       "    <tr>\n",
       "      <th>768</th>\n",
       "      <td>27.0</td>\n",
       "      <td>1.414214</td>\n",
       "      <td>17.0</td>\n",
       "      <td>2.000000</td>\n",
       "      <td>0.0</td>\n",
       "      <td>0.000000</td>\n",
       "      <td>0.0</td>\n",
       "      <td>1.000000</td>\n",
       "      <td>1.414214</td>\n",
       "      <td>0.000000</td>\n",
       "      <td>...</td>\n",
       "      <td>0.0</td>\n",
       "      <td>2.480225</td>\n",
       "      <td>2.408948</td>\n",
       "      <td>0.0</td>\n",
       "      <td>0.0</td>\n",
       "      <td>0.0</td>\n",
       "      <td>0.0</td>\n",
       "      <td>0.0</td>\n",
       "      <td>0.0</td>\n",
       "      <td>0.0</td>\n",
       "    </tr>\n",
       "    <tr>\n",
       "      <th>769</th>\n",
       "      <td>24.0</td>\n",
       "      <td>1.000000</td>\n",
       "      <td>17.0</td>\n",
       "      <td>1.732051</td>\n",
       "      <td>0.0</td>\n",
       "      <td>0.000000</td>\n",
       "      <td>0.0</td>\n",
       "      <td>1.000000</td>\n",
       "      <td>2.449490</td>\n",
       "      <td>0.000000</td>\n",
       "      <td>...</td>\n",
       "      <td>0.0</td>\n",
       "      <td>2.480225</td>\n",
       "      <td>2.408948</td>\n",
       "      <td>0.0</td>\n",
       "      <td>0.0</td>\n",
       "      <td>0.0</td>\n",
       "      <td>0.0</td>\n",
       "      <td>0.0</td>\n",
       "      <td>0.0</td>\n",
       "      <td>0.0</td>\n",
       "    </tr>\n",
       "    <tr>\n",
       "      <th>770</th>\n",
       "      <td>20.0</td>\n",
       "      <td>1.000000</td>\n",
       "      <td>16.0</td>\n",
       "      <td>1.414214</td>\n",
       "      <td>0.0</td>\n",
       "      <td>0.000000</td>\n",
       "      <td>0.0</td>\n",
       "      <td>0.000000</td>\n",
       "      <td>0.000000</td>\n",
       "      <td>0.000000</td>\n",
       "      <td>...</td>\n",
       "      <td>0.0</td>\n",
       "      <td>2.480225</td>\n",
       "      <td>2.408948</td>\n",
       "      <td>0.0</td>\n",
       "      <td>0.0</td>\n",
       "      <td>0.0</td>\n",
       "      <td>0.0</td>\n",
       "      <td>0.0</td>\n",
       "      <td>0.0</td>\n",
       "      <td>0.0</td>\n",
       "    </tr>\n",
       "    <tr>\n",
       "      <th>771</th>\n",
       "      <td>46.0</td>\n",
       "      <td>1.000000</td>\n",
       "      <td>15.0</td>\n",
       "      <td>2.449490</td>\n",
       "      <td>0.0</td>\n",
       "      <td>0.000000</td>\n",
       "      <td>0.0</td>\n",
       "      <td>0.000000</td>\n",
       "      <td>0.000000</td>\n",
       "      <td>0.000000</td>\n",
       "      <td>...</td>\n",
       "      <td>0.0</td>\n",
       "      <td>2.480225</td>\n",
       "      <td>2.408948</td>\n",
       "      <td>0.0</td>\n",
       "      <td>0.0</td>\n",
       "      <td>0.0</td>\n",
       "      <td>0.0</td>\n",
       "      <td>0.0</td>\n",
       "      <td>0.0</td>\n",
       "      <td>0.0</td>\n",
       "    </tr>\n",
       "  </tbody>\n",
       "</table>\n",
       "<p>772 rows × 35 columns</p>\n",
       "</div>"
      ],
      "text/plain": [
       "      Age  Number of sexual partners  First sexual intercourse  \\\n",
       "0    20.0                   1.593805                      16.0   \n",
       "1    20.0                   1.000000                      18.0   \n",
       "2    17.0                   1.000000                      16.0   \n",
       "3    18.0                   1.000000                      17.0   \n",
       "4    26.0                   1.414214                      17.0   \n",
       "..    ...                        ...                       ...   \n",
       "767  24.0                   1.000000                      14.0   \n",
       "768  27.0                   1.414214                      17.0   \n",
       "769  24.0                   1.000000                      17.0   \n",
       "770  20.0                   1.000000                      16.0   \n",
       "771  46.0                   1.000000                      15.0   \n",
       "\n",
       "     Num of pregnancies  Smokes  Smokes (years)  Smokes (packs/year)  \\\n",
       "0              1.000000     0.0        0.000000                  0.0   \n",
       "1              1.000000     0.0        0.000000                  0.0   \n",
       "2              1.000000     0.0        0.000000                  0.0   \n",
       "3              1.000000     0.0        0.000000                  0.0   \n",
       "4              1.498497     1.0        3.162278                  1.0   \n",
       "..                  ...     ...             ...                  ...   \n",
       "767            0.000000     0.0        0.000000                  0.0   \n",
       "768            2.000000     0.0        0.000000                  0.0   \n",
       "769            1.732051     0.0        0.000000                  0.0   \n",
       "770            1.414214     0.0        0.000000                  0.0   \n",
       "771            2.449490     0.0        0.000000                  0.0   \n",
       "\n",
       "     Hormonal Contraceptives  Hormonal Contraceptives (years)       IUD  ...  \\\n",
       "0                   0.000000                         0.000000  0.000000  ...   \n",
       "1                   0.000000                         0.000000  0.000000  ...   \n",
       "2                   0.642433                         1.499536  0.106287  ...   \n",
       "3                   0.000000                         0.000000  0.000000  ...   \n",
       "4                   1.000000                         1.732051  0.000000  ...   \n",
       "..                       ...                              ...       ...  ...   \n",
       "767                 0.000000                         0.000000  0.000000  ...   \n",
       "768                 1.000000                         1.414214  0.000000  ...   \n",
       "769                 1.000000                         2.449490  0.000000  ...   \n",
       "770                 0.000000                         0.000000  0.000000  ...   \n",
       "771                 0.000000                         0.000000  0.000000  ...   \n",
       "\n",
       "     STDs: Number of diagnosis  STDs: Time since first diagnosis  \\\n",
       "0                          0.0                          2.480225   \n",
       "1                          1.0                          1.000000   \n",
       "2                          0.0                          2.480225   \n",
       "3                          0.0                          2.480225   \n",
       "4                          0.0                          2.480225   \n",
       "..                         ...                               ...   \n",
       "767                        0.0                          2.480225   \n",
       "768                        0.0                          2.480225   \n",
       "769                        0.0                          2.480225   \n",
       "770                        0.0                          2.480225   \n",
       "771                        0.0                          2.480225   \n",
       "\n",
       "     STDs: Time since last diagnosis  Dx:Cancer  Dx:CIN  Dx:HPV   Dx  \\\n",
       "0                           2.408948        0.0     0.0     0.0  0.0   \n",
       "1                           1.000000        0.0     0.0     0.0  0.0   \n",
       "2                           2.408948        0.0     0.0     0.0  0.0   \n",
       "3                           2.408948        0.0     0.0     0.0  0.0   \n",
       "4                           2.408948        0.0     0.0     0.0  0.0   \n",
       "..                               ...        ...     ...     ...  ...   \n",
       "767                         2.408948        0.0     0.0     0.0  0.0   \n",
       "768                         2.408948        0.0     0.0     0.0  0.0   \n",
       "769                         2.408948        0.0     0.0     0.0  0.0   \n",
       "770                         2.408948        0.0     0.0     0.0  0.0   \n",
       "771                         2.408948        0.0     0.0     0.0  0.0   \n",
       "\n",
       "     Hinselmann  Schiller  Citology  \n",
       "0           0.0       0.0       0.0  \n",
       "1           0.0       0.0       0.0  \n",
       "2           0.0       0.0       0.0  \n",
       "3           0.0       0.0       0.0  \n",
       "4           0.0       0.0       0.0  \n",
       "..          ...       ...       ...  \n",
       "767         0.0       0.0       0.0  \n",
       "768         0.0       0.0       0.0  \n",
       "769         0.0       0.0       0.0  \n",
       "770         0.0       0.0       0.0  \n",
       "771         0.0       0.0       0.0  \n",
       "\n",
       "[772 rows x 35 columns]"
      ]
     },
     "execution_count": 247,
     "metadata": {},
     "output_type": "execute_result"
    }
   ],
   "source": [
    "X_sqrt_out = X_outlier.copy()   # A copy of X_outlier where square root transformation will be applied\n",
    "\n",
    "X_sqrt_out.iloc[:,column] = np.sqrt(X_sqrt_out.iloc[:,column])\n",
    "X_sqrt_out"
   ]
  },
  {
   "cell_type": "code",
   "execution_count": 248,
   "metadata": {},
   "outputs": [
    {
     "data": {
      "text/plain": [
       "{'whiskers': [<matplotlib.lines.Line2D at 0x25722e65850>,\n",
       "  <matplotlib.lines.Line2D at 0x25722e65b80>],\n",
       " 'caps': [<matplotlib.lines.Line2D at 0x25722e65820>,\n",
       "  <matplotlib.lines.Line2D at 0x25722e65c70>],\n",
       " 'boxes': [<matplotlib.lines.Line2D at 0x25722f79be0>],\n",
       " 'medians': [<matplotlib.lines.Line2D at 0x25722e65b20>],\n",
       " 'fliers': [<matplotlib.lines.Line2D at 0x25722e65a60>],\n",
       " 'means': []}"
      ]
     },
     "execution_count": 248,
     "metadata": {},
     "output_type": "execute_result"
    },
    {
     "data": {
      "text/plain": [
       "Text(0.5, 1.0, 'Box Plot of Number of sexual partners')"
      ]
     },
     "execution_count": 248,
     "metadata": {},
     "output_type": "execute_result"
    },
    {
     "data": {
      "image/png": "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",
      "text/plain": [
       "<Figure size 432x288 with 1 Axes>"
      ]
     },
     "metadata": {
      "needs_background": "light"
     },
     "output_type": "display_data"
    },
    {
     "data": {
      "text/plain": [
       "(array([424., 216., 110.,  14.,   5.,   1.,   1.,   0.,   0.,   1.]),\n",
       " array([1.        , 1.42915026, 1.85830052, 2.28745079, 2.71660105,\n",
       "        3.14575131, 3.57490157, 4.00405184, 4.4332021 , 4.86235236,\n",
       "        5.29150262]),\n",
       " <BarContainer object of 10 artists>)"
      ]
     },
     "execution_count": 248,
     "metadata": {},
     "output_type": "execute_result"
    },
    {
     "data": {
      "text/plain": [
       "Text(0.5, 1.0, 'Histogram of Number of sexual partners')"
      ]
     },
     "execution_count": 248,
     "metadata": {},
     "output_type": "execute_result"
    },
    {
     "data": {
      "image/png": "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",
      "text/plain": [
       "<Figure size 432x288 with 1 Axes>"
      ]
     },
     "metadata": {
      "needs_background": "light"
     },
     "output_type": "display_data"
    },
    {
     "data": {
      "text/plain": [
       "{'whiskers': [<matplotlib.lines.Line2D at 0x25723108c40>,\n",
       "  <matplotlib.lines.Line2D at 0x25722e57340>],\n",
       " 'caps': [<matplotlib.lines.Line2D at 0x25722e57880>,\n",
       "  <matplotlib.lines.Line2D at 0x25722e57760>],\n",
       " 'boxes': [<matplotlib.lines.Line2D at 0x2572315d8b0>],\n",
       " 'medians': [<matplotlib.lines.Line2D at 0x25722e57460>],\n",
       " 'fliers': [<matplotlib.lines.Line2D at 0x25722e57610>],\n",
       " 'means': []}"
      ]
     },
     "execution_count": 248,
     "metadata": {},
     "output_type": "execute_result"
    },
    {
     "data": {
      "text/plain": [
       "Text(0.5, 1.0, 'Box Plot of Num of pregnancies')"
      ]
     },
     "execution_count": 248,
     "metadata": {},
     "output_type": "execute_result"
    },
    {
     "data": {
      "image/png": "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",
      "text/plain": [
       "<Figure size 432x288 with 1 Axes>"
      ]
     },
     "metadata": {
      "needs_background": "light"
     },
     "output_type": "display_data"
    },
    {
     "data": {
      "text/plain": [
       "(array([ 14.,   0.,   0., 251., 261., 126.,  66.,  47.,   6.,   1.]),\n",
       " array([0.        , 0.31622777, 0.63245553, 0.9486833 , 1.26491106,\n",
       "        1.58113883, 1.8973666 , 2.21359436, 2.52982213, 2.84604989,\n",
       "        3.16227766]),\n",
       " <BarContainer object of 10 artists>)"
      ]
     },
     "execution_count": 248,
     "metadata": {},
     "output_type": "execute_result"
    },
    {
     "data": {
      "text/plain": [
       "Text(0.5, 1.0, 'Histogram of Num of pregnancies')"
      ]
     },
     "execution_count": 248,
     "metadata": {},
     "output_type": "execute_result"
    },
    {
     "data": {
      "image/png": "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",
      "text/plain": [
       "<Figure size 432x288 with 1 Axes>"
      ]
     },
     "metadata": {
      "needs_background": "light"
     },
     "output_type": "display_data"
    },
    {
     "data": {
      "text/plain": [
       "{'whiskers': [<matplotlib.lines.Line2D at 0x25723227700>,\n",
       "  <matplotlib.lines.Line2D at 0x25723227ca0>],\n",
       " 'caps': [<matplotlib.lines.Line2D at 0x257232273d0>,\n",
       "  <matplotlib.lines.Line2D at 0x25723338dc0>],\n",
       " 'boxes': [<matplotlib.lines.Line2D at 0x25723227c10>],\n",
       " 'medians': [<matplotlib.lines.Line2D at 0x25723338760>],\n",
       " 'fliers': [<matplotlib.lines.Line2D at 0x25723338b20>],\n",
       " 'means': []}"
      ]
     },
     "execution_count": 248,
     "metadata": {},
     "output_type": "execute_result"
    },
    {
     "data": {
      "text/plain": [
       "Text(0.5, 1.0, 'Box Plot of Smokes (years)')"
      ]
     },
     "execution_count": 248,
     "metadata": {},
     "output_type": "execute_result"
    },
    {
     "data": {
      "image/png": "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",
      "text/plain": [
       "<Figure size 432x288 with 1 Axes>"
      ]
     },
     "metadata": {
      "needs_background": "light"
     },
     "output_type": "display_data"
    },
    {
     "data": {
      "text/plain": [
       "(array([646.,  35.,  14.,  14.,  23.,  15.,  15.,   7.,   0.,   3.]),\n",
       " array([0.        , 0.60827625, 1.21655251, 1.82482876, 2.43310501,\n",
       "        3.04138127, 3.64965752, 4.25793377, 4.86621002, 5.47448628,\n",
       "        6.08276253]),\n",
       " <BarContainer object of 10 artists>)"
      ]
     },
     "execution_count": 248,
     "metadata": {},
     "output_type": "execute_result"
    },
    {
     "data": {
      "text/plain": [
       "Text(0.5, 1.0, 'Histogram of Smokes (years)')"
      ]
     },
     "execution_count": 248,
     "metadata": {},
     "output_type": "execute_result"
    },
    {
     "data": {
      "image/png": "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",
      "text/plain": [
       "<Figure size 432x288 with 1 Axes>"
      ]
     },
     "metadata": {
      "needs_background": "light"
     },
     "output_type": "display_data"
    },
    {
     "data": {
      "text/plain": [
       "{'whiskers': [<matplotlib.lines.Line2D at 0x25723ffa6a0>,\n",
       "  <matplotlib.lines.Line2D at 0x25723ffa0d0>],\n",
       " 'caps': [<matplotlib.lines.Line2D at 0x25723ffa1c0>,\n",
       "  <matplotlib.lines.Line2D at 0x25723ffa070>],\n",
       " 'boxes': [<matplotlib.lines.Line2D at 0x2572406c910>],\n",
       " 'medians': [<matplotlib.lines.Line2D at 0x25723ffa9a0>],\n",
       " 'fliers': [<matplotlib.lines.Line2D at 0x25723ffa280>],\n",
       " 'means': []}"
      ]
     },
     "execution_count": 248,
     "metadata": {},
     "output_type": "execute_result"
    },
    {
     "data": {
      "text/plain": [
       "Text(0.5, 1.0, 'Box Plot of Smokes (packs/year)')"
      ]
     },
     "execution_count": 248,
     "metadata": {},
     "output_type": "execute_result"
    },
    {
     "data": {
      "image/png": "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",
      "text/plain": [
       "<Figure size 432x288 with 1 Axes>"
      ]
     },
     "metadata": {
      "needs_background": "light"
     },
     "output_type": "display_data"
    },
    {
     "data": {
      "text/plain": [
       "(array([665.,  55.,  23.,  12.,   9.,   3.,   1.,   3.,   0.,   1.]),\n",
       " array([0.        , 0.60827625, 1.21655251, 1.82482876, 2.43310501,\n",
       "        3.04138127, 3.64965752, 4.25793377, 4.86621002, 5.47448628,\n",
       "        6.08276253]),\n",
       " <BarContainer object of 10 artists>)"
      ]
     },
     "execution_count": 248,
     "metadata": {},
     "output_type": "execute_result"
    },
    {
     "data": {
      "text/plain": [
       "Text(0.5, 1.0, 'Histogram of Smokes (packs/year)')"
      ]
     },
     "execution_count": 248,
     "metadata": {},
     "output_type": "execute_result"
    },
    {
     "data": {
      "image/png": "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",
      "text/plain": [
       "<Figure size 432x288 with 1 Axes>"
      ]
     },
     "metadata": {
      "needs_background": "light"
     },
     "output_type": "display_data"
    },
    {
     "data": {
      "text/plain": [
       "{'whiskers': [<matplotlib.lines.Line2D at 0x257230517c0>,\n",
       "  <matplotlib.lines.Line2D at 0x25725685430>],\n",
       " 'caps': [<matplotlib.lines.Line2D at 0x257256852b0>,\n",
       "  <matplotlib.lines.Line2D at 0x257242005e0>],\n",
       " 'boxes': [<matplotlib.lines.Line2D at 0x25725685340>],\n",
       " 'medians': [<matplotlib.lines.Line2D at 0x25724200dc0>],\n",
       " 'fliers': [<matplotlib.lines.Line2D at 0x25724200d60>],\n",
       " 'means': []}"
      ]
     },
     "execution_count": 248,
     "metadata": {},
     "output_type": "execute_result"
    },
    {
     "data": {
      "text/plain": [
       "Text(0.5, 1.0, 'Box Plot of Hormonal Contraceptives (years)')"
      ]
     },
     "execution_count": 248,
     "metadata": {},
     "output_type": "execute_result"
    },
    {
     "data": {
      "image/png": "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",
      "text/plain": [
       "<Figure size 432x288 with 1 Axes>"
      ]
     },
     "metadata": {
      "needs_background": "light"
     },
     "output_type": "display_data"
    },
    {
     "data": {
      "text/plain": [
       "(array([279.,  95.,  74., 168.,  50.,  44.,  38.,  10.,   8.,   6.]),\n",
       " array([0.        , 0.46904158, 0.93808315, 1.40712473, 1.8761663 ,\n",
       "        2.34520788, 2.81424946, 3.28329103, 3.75233261, 4.22137418,\n",
       "        4.69041576]),\n",
       " <BarContainer object of 10 artists>)"
      ]
     },
     "execution_count": 248,
     "metadata": {},
     "output_type": "execute_result"
    },
    {
     "data": {
      "text/plain": [
       "Text(0.5, 1.0, 'Histogram of Hormonal Contraceptives (years)')"
      ]
     },
     "execution_count": 248,
     "metadata": {},
     "output_type": "execute_result"
    },
    {
     "data": {
      "image/png": "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",
      "text/plain": [
       "<Figure size 432x288 with 1 Axes>"
      ]
     },
     "metadata": {
      "needs_background": "light"
     },
     "output_type": "display_data"
    },
    {
     "data": {
      "text/plain": [
       "{'whiskers': [<matplotlib.lines.Line2D at 0x257252c6e80>,\n",
       "  <matplotlib.lines.Line2D at 0x257252c6a60>],\n",
       " 'caps': [<matplotlib.lines.Line2D at 0x257252c68b0>,\n",
       "  <matplotlib.lines.Line2D at 0x257252c62e0>],\n",
       " 'boxes': [<matplotlib.lines.Line2D at 0x257256f1ca0>],\n",
       " 'medians': [<matplotlib.lines.Line2D at 0x257252c65e0>],\n",
       " 'fliers': [<matplotlib.lines.Line2D at 0x257252c64c0>],\n",
       " 'means': []}"
      ]
     },
     "execution_count": 248,
     "metadata": {},
     "output_type": "execute_result"
    },
    {
     "data": {
      "text/plain": [
       "Text(0.5, 1.0, 'Box Plot of IUD (years)')"
      ]
     },
     "execution_count": 248,
     "metadata": {},
     "output_type": "execute_result"
    },
    {
     "data": {
      "image/png": "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",
      "text/plain": [
       "<Figure size 432x288 with 1 Axes>"
      ]
     },
     "metadata": {
      "needs_background": "light"
     },
     "output_type": "display_data"
    },
    {
     "data": {
      "text/plain": [
       "(array([601., 109.,   9.,  18.,   4.,  12.,  11.,   5.,   1.,   2.]),\n",
       " array([0.        , 0.43588989, 0.87177979, 1.30766968, 1.74355958,\n",
       "        2.17944947, 2.61533937, 3.05122926, 3.48711915, 3.92300905,\n",
       "        4.35889894]),\n",
       " <BarContainer object of 10 artists>)"
      ]
     },
     "execution_count": 248,
     "metadata": {},
     "output_type": "execute_result"
    },
    {
     "data": {
      "text/plain": [
       "Text(0.5, 1.0, 'Histogram of IUD (years)')"
      ]
     },
     "execution_count": 248,
     "metadata": {},
     "output_type": "execute_result"
    },
    {
     "data": {
      "image/png": "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",
      "text/plain": [
       "<Figure size 432x288 with 1 Axes>"
      ]
     },
     "metadata": {
      "needs_background": "light"
     },
     "output_type": "display_data"
    },
    {
     "data": {
      "text/plain": [
       "{'whiskers': [<matplotlib.lines.Line2D at 0x25723c87e20>,\n",
       "  <matplotlib.lines.Line2D at 0x25723d6a580>],\n",
       " 'caps': [<matplotlib.lines.Line2D at 0x25723d6a850>,\n",
       "  <matplotlib.lines.Line2D at 0x25723d6ab20>],\n",
       " 'boxes': [<matplotlib.lines.Line2D at 0x25723d6a100>],\n",
       " 'medians': [<matplotlib.lines.Line2D at 0x25723d6adf0>],\n",
       " 'fliers': [<matplotlib.lines.Line2D at 0x25723d79100>],\n",
       " 'means': []}"
      ]
     },
     "execution_count": 248,
     "metadata": {},
     "output_type": "execute_result"
    },
    {
     "data": {
      "text/plain": [
       "Text(0.5, 1.0, 'Box Plot of STDs: Time since first diagnosis')"
      ]
     },
     "execution_count": 248,
     "metadata": {},
     "output_type": "execute_result"
    },
    {
     "data": {
      "image/png": "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",
      "text/plain": [
       "<Figure size 432x288 with 1 Axes>"
      ]
     },
     "metadata": {
      "needs_background": "light"
     },
     "output_type": "display_data"
    },
    {
     "data": {
      "text/plain": [
       "(array([ 15.,  18.,   5.,   6., 713.,   2.,   2.,   1.,   5.,   5.]),\n",
       " array([1.        , 1.36904158, 1.73808315, 2.10712473, 2.4761663 ,\n",
       "        2.84520788, 3.21424946, 3.58329103, 3.95233261, 4.32137418,\n",
       "        4.69041576]),\n",
       " <BarContainer object of 10 artists>)"
      ]
     },
     "execution_count": 248,
     "metadata": {},
     "output_type": "execute_result"
    },
    {
     "data": {
      "text/plain": [
       "Text(0.5, 1.0, 'Histogram of STDs: Time since first diagnosis')"
      ]
     },
     "execution_count": 248,
     "metadata": {},
     "output_type": "execute_result"
    },
    {
     "data": {
      "image/png": "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",
      "text/plain": [
       "<Figure size 432x288 with 1 Axes>"
      ]
     },
     "metadata": {
      "needs_background": "light"
     },
     "output_type": "display_data"
    },
    {
     "data": {
      "text/plain": [
       "{'whiskers': [<matplotlib.lines.Line2D at 0x25723e12340>,\n",
       "  <matplotlib.lines.Line2D at 0x25723e124f0>],\n",
       " 'caps': [<matplotlib.lines.Line2D at 0x25723e127c0>,\n",
       "  <matplotlib.lines.Line2D at 0x25723e12a90>],\n",
       " 'boxes': [<matplotlib.lines.Line2D at 0x25723e12070>],\n",
       " 'medians': [<matplotlib.lines.Line2D at 0x25723e12d60>],\n",
       " 'fliers': [<matplotlib.lines.Line2D at 0x25722ff7070>],\n",
       " 'means': []}"
      ]
     },
     "execution_count": 248,
     "metadata": {},
     "output_type": "execute_result"
    },
    {
     "data": {
      "text/plain": [
       "Text(0.5, 1.0, 'Box Plot of STDs: Time since last diagnosis')"
      ]
     },
     "execution_count": 248,
     "metadata": {},
     "output_type": "execute_result"
    },
    {
     "data": {
      "image/png": "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",
      "text/plain": [
       "<Figure size 432x288 with 1 Axes>"
      ]
     },
     "metadata": {
      "needs_background": "light"
     },
     "output_type": "display_data"
    },
    {
     "data": {
      "text/plain": [
       "(array([ 17.,  18.,   5., 711.,   7.,   2.,   2.,   1.,   5.,   4.]),\n",
       " array([1.        , 1.36904158, 1.73808315, 2.10712473, 2.4761663 ,\n",
       "        2.84520788, 3.21424946, 3.58329103, 3.95233261, 4.32137418,\n",
       "        4.69041576]),\n",
       " <BarContainer object of 10 artists>)"
      ]
     },
     "execution_count": 248,
     "metadata": {},
     "output_type": "execute_result"
    },
    {
     "data": {
      "text/plain": [
       "Text(0.5, 1.0, 'Histogram of STDs: Time since last diagnosis')"
      ]
     },
     "execution_count": 248,
     "metadata": {},
     "output_type": "execute_result"
    },
    {
     "data": {
      "image/png": "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",
      "text/plain": [
       "<Figure size 432x288 with 1 Axes>"
      ]
     },
     "metadata": {
      "needs_background": "light"
     },
     "output_type": "display_data"
    }
   ],
   "source": [
    "for num in column:\n",
    "    # Boxplot \n",
    "    plt.boxplot(X_rem_out.iloc[:,num:(num+1)])\n",
    "    plt.title('Box Plot of '+ df.columns[num])\n",
    "    plt.show()\n",
    "\n",
    "    # Histogram \n",
    "    plt.hist(X_rem_out.iloc[:,num:(num+1)])\n",
    "    plt.title('Histogram of '+ df.columns[num])\n",
    "    plt.show()\n"
   ]
  },
  {
   "attachments": {},
   "cell_type": "markdown",
   "metadata": {},
   "source": [
    "##### Imbalanced Data"
   ]
>>>>>>> Stashed changes
  },
  {
   "cell_type": "code",
   "execution_count": 249,
   "metadata": {},
   "outputs": [
    {
     "data": {
      "text/plain": [
       "0    722\n",
       "1     50\n",
       "Name: Biopsy, dtype: int64"
      ]
     },
     "execution_count": 249,
     "metadata": {},
     "output_type": "execute_result"
    }
   ],
   "source": [
    "y_train.value_counts()"
   ]
  },
  {
   "cell_type": "code",
   "execution_count": 250,
   "metadata": {},
   "outputs": [
    {
     "name": "stderr",
     "output_type": "stream",
     "text": [
      "c:\\Users\\looiw\\anaconda3\\lib\\site-packages\\seaborn\\_decorators.py:36: FutureWarning: Pass the following variable as a keyword arg: x. From version 0.12, the only valid positional argument will be `data`, and passing other arguments without an explicit keyword will result in an error or misinterpretation.\n",
      "  warnings.warn(\n"
     ]
    },
    {
     "data": {
      "text/plain": [
       "<AxesSubplot:xlabel='Biopsy', ylabel='count'>"
      ]
     },
     "execution_count": 250,
     "metadata": {},
     "output_type": "execute_result"
    },
    {
     "data": {
      "image/png": "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",
      "text/plain": [
       "<Figure size 432x288 with 1 Axes>"
      ]
     },
     "metadata": {
      "needs_background": "light"
     },
     "output_type": "display_data"
    }
   ],
   "source": [
    "sns.countplot(y_train)"
   ]
  },
  {
   "attachments": {},
   "cell_type": "markdown",
   "metadata": {},
   "source": [
    "As we observe from the numbers and graph above, we can see that there is an extreme uneven distribution of values for class 0 and 1. The majority class is 94%（722 out of 772 records) with a negative biopsy diagnosis, while the minority class is only 6% (50 out of 772 records) with a positive biopsy diagnosis."
   ]
  },
  {
   "cell_type": "code",
   "execution_count": 251,
   "metadata": {},
   "outputs": [
    {
     "name": "stdout",
     "output_type": "stream",
     "text": [
      "23     1\n",
      "693    1\n",
      "22     1\n",
      "131    1\n",
      "320    1\n",
      "      ..\n",
      "835    0\n",
      "192    0\n",
      "629    0\n",
      "559    0\n",
      "684    0\n",
      "Name: Biopsy, Length: 1444, dtype: int64\n"
     ]
    }
   ],
   "source": [
    "#create two different dataframe of majority and minority class \n",
    "y_major = y_train[(y_train==0)] \n",
    "y_minor = y_train[(y_train==1)] \n",
    "# upsample minority class\n",
    "y_minor_unsampled = resample(y_minor, replace=True, n_samples = 722, random_state = 42)\n",
    "# Combine majority class with upsampled minority class\n",
    "y_train_upsampled = pd.concat([y_minor_unsampled, y_major])\n",
    "print(y_train_upsampled)"
   ]
  },
  {
   "attachments": {},
   "cell_type": "markdown",
   "metadata": {},
   "source": [
    "#### Feature Selection\n",
    "Perform feature selection to select the relevant features.\n",
    "______________________________________________________________________________________\n",
    "Description:"
   ]
  },
  {
   "cell_type": "code",
   "execution_count": null,
   "metadata": {},
   "outputs": [],
   "source": []
  },
  {
   "attachments": {},
   "cell_type": "markdown",
   "metadata": {},
   "source": [
    "#### Data modeling\n",
    "Build the machine learning models. You must build atleast two (2) predictive models. One of the predictive models must be either Decision Tree or Support Vector Machine.\n",
    "______________________________________________________________________________________\n",
    "Description:"
   ]
  },
  {
   "cell_type": "code",
   "execution_count": null,
   "metadata": {},
   "outputs": [],
   "source": []
  },
  {
   "attachments": {},
   "cell_type": "markdown",
   "metadata": {},
   "source": [
    "#### Evaluate the models\n",
    "Perform a comparison between the predictive models. <br>\n",
    "Report the accuracy, recall, precision and F1-score measures as well as the confusion matrix if it is a classification problem. <br>\n",
    "Report the R2 score, mean squared error and mean absolute error if it is a regression problem.\n",
    "______________________________________________________________________________________\n",
    "Description:"
   ]
  },
  {
   "cell_type": "code",
   "execution_count": null,
   "metadata": {},
   "outputs": [],
   "source": []
  }
 ],
 "metadata": {
  "kernelspec": {
   "display_name": "Python 3",
   "language": "python",
   "name": "python3"
  },
  "language_info": {
   "codemirror_mode": {
    "name": "ipython",
    "version": 3
   },
   "file_extension": ".py",
   "mimetype": "text/x-python",
   "name": "python",
   "nbconvert_exporter": "python",
   "pygments_lexer": "ipython3",
   "version": "3.9.12"
  }
 },
 "nbformat": 4,
 "nbformat_minor": 4
}
